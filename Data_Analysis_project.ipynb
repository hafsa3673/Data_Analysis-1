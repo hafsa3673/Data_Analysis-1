{
 "cells": [
  {
   "cell_type": "markdown",
   "id": "52dc848e-cd41-4f14-a765-fedbee12b43f",
   "metadata": {},
   "source": [
    "# Data Analysis Projekt\n",
    "### FH Aachen - University of Applied Sciences\n",
    "\n",
    "Datum: 28. Juli 2023 - Mahjoubi Asmae, Ben Amara Hafsa"
   ]
  },
  {
   "cell_type": "markdown",
   "id": "41db3fa0-ed89-41f3-ab87-7d8568a14304",
   "metadata": {},
   "source": [
    "## Introduction"
   ]
  },
  {
   "cell_type": "markdown",
   "id": "6d4e9545-cbf2-468b-9cc6-33afd9761af3",
   "metadata": {},
   "source": [
    "<div style=\"border-left: 2px solid black; padding-left: 10px;\">\n",
    "Die Verkaufsleistung eines Unternehmens hängt von verschiedenen Faktoren ab, darunter\n",
    "Preisstrategien, Werbekampagnen und Kundenverhalten. Die Analyse von Verkaufsdaten\n",
    "kann wertvolle Erkenntnisse über diese Faktoren liefern und den Unternehmen helfen, ihre\n",
    "Preis- und Werbestrategien zu optimieren. Das Projekt zielt darauf ab, Unternehmen dabei\n",
    "zu unterstützen, Muster im Kundenverhalten anhand von Verkaufsdaten zu erkennen und\n",
    "diese Informationen zur Optimierung ihrer Preis- und Werbestrategien zu nutzen.\n",
    "    </div>"
   ]
  },
  {
   "cell_type": "markdown",
   "id": "dba56947-fad1-42f6-b7b6-5f7bf990cd11",
   "metadata": {},
   "source": [
    "Wir haben unseren Datensatz von der [Kaggle-Website](https://www.kaggle.com/datasets/beekiran/sales-data-analysis) bezogen."
   ]
  },
  {
   "cell_type": "markdown",
   "id": "acd62153-6104-47f7-83c6-0f5d4a26b437",
   "metadata": {},
   "source": [
    "### Data Inspection/preparation"
   ]
  },
  {
   "cell_type": "code",
   "execution_count": 1,
   "id": "62e3cc30-77fc-4f5f-88c7-b64b6bceaf2e",
   "metadata": {},
   "outputs": [],
   "source": [
    "import matplotlib.pyplot as plt\n",
    "import pandas as pd\n",
    "%matplotlib inline\n",
    "plt.rcParams[\"figure.figsize\"] = [10, 7]"
   ]
  },
  {
   "cell_type": "code",
   "execution_count": 46,
   "id": "1d536797-1ff1-4a0d-aa6a-5f270b290dff",
   "metadata": {},
   "outputs": [],
   "source": [
    "df = pd.read_csv(\"dataset_sales_analysis.csv\")"
   ]
  },
  {
   "cell_type": "code",
   "execution_count": 3,
   "id": "183fe59b-90e3-4b51-bae1-aefc2110c56f",
   "metadata": {},
   "outputs": [
    {
     "data": {
      "text/plain": [
       "0      11.95\n",
       "1        NaN\n",
       "2      99.99\n",
       "3        600\n",
       "4      11.99\n",
       "5      11.99\n",
       "6      11.95\n",
       "7      99.99\n",
       "8      11.95\n",
       "9       1700\n",
       "10     11.99\n",
       "11       600\n",
       "12     14.95\n",
       "13    389.99\n",
       "14      3.84\n",
       "15     14.95\n",
       "16       150\n",
       "17     11.95\n",
       "18       600\n",
       "19     11.95\n",
       "20      2.99\n",
       "21       150\n",
       "22       150\n",
       "23       150\n",
       "24      3.84\n",
       "25     11.95\n",
       "26       700\n",
       "27     99.99\n",
       "28      2.99\n",
       "29       300\n",
       "30     99.99\n",
       "31     99.99\n",
       "32      2.99\n",
       "33       600\n",
       "34    149.99\n",
       "35    109.99\n",
       "36     14.95\n",
       "37       600\n",
       "38       150\n",
       "39     11.95\n",
       "40     14.95\n",
       "41     11.99\n",
       "42     11.99\n",
       "43       150\n",
       "44     11.95\n",
       "45      2.99\n",
       "46     14.95\n",
       "47    389.99\n",
       "48     11.95\n",
       "49     14.95\n",
       "Name: Price Each, dtype: object"
      ]
     },
     "execution_count": 3,
     "metadata": {},
     "output_type": "execute_result"
    }
   ],
   "source": [
    "df['Price Each'][:50]"
   ]
  },
  {
   "cell_type": "code",
   "execution_count": 4,
   "id": "1621ea37-074e-4853-9a81-5445ad77f356",
   "metadata": {},
   "outputs": [
    {
     "data": {
      "text/html": [
       "<div>\n",
       "<style scoped>\n",
       "    .dataframe tbody tr th:only-of-type {\n",
       "        vertical-align: middle;\n",
       "    }\n",
       "\n",
       "    .dataframe tbody tr th {\n",
       "        vertical-align: top;\n",
       "    }\n",
       "\n",
       "    .dataframe thead th {\n",
       "        text-align: right;\n",
       "    }\n",
       "</style>\n",
       "<table border=\"1\" class=\"dataframe\">\n",
       "  <thead>\n",
       "    <tr style=\"text-align: right;\">\n",
       "      <th></th>\n",
       "      <th>Order ID</th>\n",
       "      <th>Product</th>\n",
       "      <th>Quantity Ordered</th>\n",
       "      <th>Price Each</th>\n",
       "      <th>Order Date</th>\n",
       "      <th>Purchase Address</th>\n",
       "    </tr>\n",
       "  </thead>\n",
       "  <tbody>\n",
       "    <tr>\n",
       "      <th>0</th>\n",
       "      <td>176558</td>\n",
       "      <td>USB-C Charging Cable</td>\n",
       "      <td>2</td>\n",
       "      <td>11.95</td>\n",
       "      <td>04/19/19 08:46</td>\n",
       "      <td>917 1st St, Dallas, TX 75001</td>\n",
       "    </tr>\n",
       "    <tr>\n",
       "      <th>1</th>\n",
       "      <td>NaN</td>\n",
       "      <td>NaN</td>\n",
       "      <td>NaN</td>\n",
       "      <td>NaN</td>\n",
       "      <td>NaN</td>\n",
       "      <td>NaN</td>\n",
       "    </tr>\n",
       "    <tr>\n",
       "      <th>2</th>\n",
       "      <td>176559</td>\n",
       "      <td>Bose SoundSport Headphones</td>\n",
       "      <td>1</td>\n",
       "      <td>99.99</td>\n",
       "      <td>04/07/19 22:30</td>\n",
       "      <td>682 Chestnut St, Boston, MA 02215</td>\n",
       "    </tr>\n",
       "    <tr>\n",
       "      <th>3</th>\n",
       "      <td>176560</td>\n",
       "      <td>Google Phone</td>\n",
       "      <td>1</td>\n",
       "      <td>600</td>\n",
       "      <td>04/12/19 14:38</td>\n",
       "      <td>669 Spruce St, Los Angeles, CA 90001</td>\n",
       "    </tr>\n",
       "    <tr>\n",
       "      <th>4</th>\n",
       "      <td>176560</td>\n",
       "      <td>Wired Headphones</td>\n",
       "      <td>1</td>\n",
       "      <td>11.99</td>\n",
       "      <td>04/12/19 14:38</td>\n",
       "      <td>669 Spruce St, Los Angeles, CA 90001</td>\n",
       "    </tr>\n",
       "  </tbody>\n",
       "</table>\n",
       "</div>"
      ],
      "text/plain": [
       "  Order ID                     Product Quantity Ordered Price Each  \\\n",
       "0   176558        USB-C Charging Cable                2      11.95   \n",
       "1      NaN                         NaN              NaN        NaN   \n",
       "2   176559  Bose SoundSport Headphones                1      99.99   \n",
       "3   176560                Google Phone                1        600   \n",
       "4   176560            Wired Headphones                1      11.99   \n",
       "\n",
       "       Order Date                      Purchase Address  \n",
       "0  04/19/19 08:46          917 1st St, Dallas, TX 75001  \n",
       "1             NaN                                   NaN  \n",
       "2  04/07/19 22:30     682 Chestnut St, Boston, MA 02215  \n",
       "3  04/12/19 14:38  669 Spruce St, Los Angeles, CA 90001  \n",
       "4  04/12/19 14:38  669 Spruce St, Los Angeles, CA 90001  "
      ]
     },
     "execution_count": 4,
     "metadata": {},
     "output_type": "execute_result"
    }
   ],
   "source": [
    "df.head()"
   ]
  },
  {
   "cell_type": "code",
   "execution_count": 5,
   "id": "9edd6809-dde3-4d18-a48e-16ccbda40783",
   "metadata": {},
   "outputs": [
    {
     "data": {
      "text/html": [
       "<div>\n",
       "<style scoped>\n",
       "    .dataframe tbody tr th:only-of-type {\n",
       "        vertical-align: middle;\n",
       "    }\n",
       "\n",
       "    .dataframe tbody tr th {\n",
       "        vertical-align: top;\n",
       "    }\n",
       "\n",
       "    .dataframe thead th {\n",
       "        text-align: right;\n",
       "    }\n",
       "</style>\n",
       "<table border=\"1\" class=\"dataframe\">\n",
       "  <thead>\n",
       "    <tr style=\"text-align: right;\">\n",
       "      <th></th>\n",
       "      <th>Order ID</th>\n",
       "      <th>Product</th>\n",
       "      <th>Quantity Ordered</th>\n",
       "      <th>Price Each</th>\n",
       "      <th>Order Date</th>\n",
       "      <th>Purchase Address</th>\n",
       "    </tr>\n",
       "  </thead>\n",
       "  <tbody>\n",
       "    <tr>\n",
       "      <th>186845</th>\n",
       "      <td>259353</td>\n",
       "      <td>AAA Batteries (4-pack)</td>\n",
       "      <td>3</td>\n",
       "      <td>2.99</td>\n",
       "      <td>09/17/19 20:56</td>\n",
       "      <td>840 Highland St, Los Angeles, CA 90001</td>\n",
       "    </tr>\n",
       "    <tr>\n",
       "      <th>186846</th>\n",
       "      <td>259354</td>\n",
       "      <td>iPhone</td>\n",
       "      <td>1</td>\n",
       "      <td>700</td>\n",
       "      <td>09/01/19 16:00</td>\n",
       "      <td>216 Dogwood St, San Francisco, CA 94016</td>\n",
       "    </tr>\n",
       "    <tr>\n",
       "      <th>186847</th>\n",
       "      <td>259355</td>\n",
       "      <td>iPhone</td>\n",
       "      <td>1</td>\n",
       "      <td>700</td>\n",
       "      <td>09/23/19 07:39</td>\n",
       "      <td>220 12th St, San Francisco, CA 94016</td>\n",
       "    </tr>\n",
       "    <tr>\n",
       "      <th>186848</th>\n",
       "      <td>259356</td>\n",
       "      <td>34in Ultrawide Monitor</td>\n",
       "      <td>1</td>\n",
       "      <td>379.99</td>\n",
       "      <td>09/19/19 17:30</td>\n",
       "      <td>511 Forest St, San Francisco, CA 94016</td>\n",
       "    </tr>\n",
       "    <tr>\n",
       "      <th>186849</th>\n",
       "      <td>259357</td>\n",
       "      <td>USB-C Charging Cable</td>\n",
       "      <td>1</td>\n",
       "      <td>11.95</td>\n",
       "      <td>09/30/19 00:18</td>\n",
       "      <td>250 Meadow St, San Francisco, CA 94016</td>\n",
       "    </tr>\n",
       "  </tbody>\n",
       "</table>\n",
       "</div>"
      ],
      "text/plain": [
       "       Order ID                 Product Quantity Ordered Price Each  \\\n",
       "186845   259353  AAA Batteries (4-pack)                3       2.99   \n",
       "186846   259354                  iPhone                1        700   \n",
       "186847   259355                  iPhone                1        700   \n",
       "186848   259356  34in Ultrawide Monitor                1     379.99   \n",
       "186849   259357    USB-C Charging Cable                1      11.95   \n",
       "\n",
       "            Order Date                         Purchase Address  \n",
       "186845  09/17/19 20:56   840 Highland St, Los Angeles, CA 90001  \n",
       "186846  09/01/19 16:00  216 Dogwood St, San Francisco, CA 94016  \n",
       "186847  09/23/19 07:39     220 12th St, San Francisco, CA 94016  \n",
       "186848  09/19/19 17:30   511 Forest St, San Francisco, CA 94016  \n",
       "186849  09/30/19 00:18   250 Meadow St, San Francisco, CA 94016  "
      ]
     },
     "execution_count": 5,
     "metadata": {},
     "output_type": "execute_result"
    }
   ],
   "source": [
    "df.tail()"
   ]
  },
  {
   "cell_type": "code",
   "execution_count": 6,
   "id": "f12d9f4b-e949-4201-a1b6-68f58b83253f",
   "metadata": {},
   "outputs": [
    {
     "data": {
      "text/plain": [
       "(186850, 6)"
      ]
     },
     "execution_count": 6,
     "metadata": {},
     "output_type": "execute_result"
    }
   ],
   "source": [
    "df.shape"
   ]
  },
  {
   "cell_type": "markdown",
   "id": "1fb3d30b-c489-48cd-89ab-35f3db88fdf7",
   "metadata": {},
   "source": [
    "Quantitativer Fall: Die Daten enthalten Hunderttausende von Einkäufen in Elektronikgeschäften (186305 Zeilen), aufgeschlüsselt nach Monat, Produkttyp, Kosten und Kaufadresse. Die Spalten sind wie folgt."
   ]
  },
  {
   "cell_type": "code",
   "execution_count": 7,
   "id": "c2599724-a36b-4d31-a67c-775383a8824b",
   "metadata": {},
   "outputs": [
    {
     "data": {
      "text/plain": [
       "['Order ID',\n",
       " 'Product',\n",
       " 'Quantity Ordered',\n",
       " 'Price Each',\n",
       " 'Order Date',\n",
       " 'Purchase Address']"
      ]
     },
     "execution_count": 7,
     "metadata": {},
     "output_type": "execute_result"
    }
   ],
   "source": [
    "cols_list = list(df.columns.values)\n",
    "cols_list"
   ]
  },
  {
   "cell_type": "markdown",
   "id": "5cd91093-0a32-4f10-ab84-ec31648e2d13",
   "metadata": {},
   "source": [
    "#### Data types von unseren Spalten"
   ]
  },
  {
   "cell_type": "code",
   "execution_count": 8,
   "id": "8cb2442b-aaa4-40da-a5ff-c9d3be0000ff",
   "metadata": {},
   "outputs": [
    {
     "data": {
      "text/html": [
       "<div>\n",
       "<style scoped>\n",
       "    .dataframe tbody tr th:only-of-type {\n",
       "        vertical-align: middle;\n",
       "    }\n",
       "\n",
       "    .dataframe tbody tr th {\n",
       "        vertical-align: top;\n",
       "    }\n",
       "\n",
       "    .dataframe thead th {\n",
       "        text-align: right;\n",
       "    }\n",
       "</style>\n",
       "<table border=\"1\" class=\"dataframe\">\n",
       "  <thead>\n",
       "    <tr style=\"text-align: right;\">\n",
       "      <th></th>\n",
       "      <th>Order ID</th>\n",
       "      <th>Product</th>\n",
       "      <th>Quantity Ordered</th>\n",
       "      <th>Price Each</th>\n",
       "      <th>Order Date</th>\n",
       "      <th>Purchase Address</th>\n",
       "    </tr>\n",
       "  </thead>\n",
       "  <tbody>\n",
       "    <tr>\n",
       "      <th>count</th>\n",
       "      <td>186305</td>\n",
       "      <td>186305</td>\n",
       "      <td>186305</td>\n",
       "      <td>186305</td>\n",
       "      <td>186305</td>\n",
       "      <td>186305</td>\n",
       "    </tr>\n",
       "    <tr>\n",
       "      <th>unique</th>\n",
       "      <td>178438</td>\n",
       "      <td>20</td>\n",
       "      <td>10</td>\n",
       "      <td>24</td>\n",
       "      <td>142396</td>\n",
       "      <td>140788</td>\n",
       "    </tr>\n",
       "    <tr>\n",
       "      <th>top</th>\n",
       "      <td>Order ID</td>\n",
       "      <td>USB-C Charging Cable</td>\n",
       "      <td>1</td>\n",
       "      <td>11.95</td>\n",
       "      <td>Order Date</td>\n",
       "      <td>Purchase Address</td>\n",
       "    </tr>\n",
       "    <tr>\n",
       "      <th>freq</th>\n",
       "      <td>355</td>\n",
       "      <td>21903</td>\n",
       "      <td>168552</td>\n",
       "      <td>21903</td>\n",
       "      <td>355</td>\n",
       "      <td>355</td>\n",
       "    </tr>\n",
       "  </tbody>\n",
       "</table>\n",
       "</div>"
      ],
      "text/plain": [
       "        Order ID               Product Quantity Ordered Price Each  \\\n",
       "count     186305                186305           186305     186305   \n",
       "unique    178438                    20               10         24   \n",
       "top     Order ID  USB-C Charging Cable                1      11.95   \n",
       "freq         355                 21903           168552      21903   \n",
       "\n",
       "        Order Date  Purchase Address  \n",
       "count       186305            186305  \n",
       "unique      142396            140788  \n",
       "top     Order Date  Purchase Address  \n",
       "freq           355               355  "
      ]
     },
     "execution_count": 8,
     "metadata": {},
     "output_type": "execute_result"
    }
   ],
   "source": [
    "df.describe()"
   ]
  },
  {
   "cell_type": "code",
   "execution_count": 9,
   "id": "978ed052-4c45-4cfc-a3df-30527bfe1091",
   "metadata": {},
   "outputs": [
    {
     "name": "stdout",
     "output_type": "stream",
     "text": [
      "<class 'pandas.core.frame.DataFrame'>\n",
      "RangeIndex: 186850 entries, 0 to 186849\n",
      "Data columns (total 6 columns):\n",
      " #   Column            Non-Null Count   Dtype \n",
      "---  ------            --------------   ----- \n",
      " 0   Order ID          186305 non-null  object\n",
      " 1   Product           186305 non-null  object\n",
      " 2   Quantity Ordered  186305 non-null  object\n",
      " 3   Price Each        186305 non-null  object\n",
      " 4   Order Date        186305 non-null  object\n",
      " 5   Purchase Address  186305 non-null  object\n",
      "dtypes: object(6)\n",
      "memory usage: 8.6+ MB\n"
     ]
    }
   ],
   "source": [
    "df.info()"
   ]
  },
  {
   "cell_type": "markdown",
   "id": "0238c2a2-11c7-4048-ab59-687b8d8e2eeb",
   "metadata": {},
   "source": [
    "Bei allen Spalten handelt es sich um Objekte, die als Strings identifiziert werden, aber in unserem Fall sollten einige Elemente wie \"Ordered Quantity\" und \"Price Each\" Integer- bzw. Float-Werte sein, die wir nach der Bereinigung des Datensatzes und dµer Eliminierung der NAN-Werte entsprechend umwandeln müssen"
   ]
  },
  {
   "cell_type": "markdown",
   "id": "1df9c4cb-04df-40b3-94cd-4fa43cfa1929",
   "metadata": {},
   "source": [
    "### Data Cleaning"
   ]
  },
  {
   "cell_type": "markdown",
   "id": "ef78d63f-12ae-432a-a662-59ddde003fc5",
   "metadata": {},
   "source": [
    "#### 1. Handling missing values"
   ]
  },
  {
   "cell_type": "code",
   "execution_count": 10,
   "id": "0cd0ddeb-c262-468a-838a-8adbe1b0ee01",
   "metadata": {},
   "outputs": [
    {
     "data": {
      "text/html": [
       "<div>\n",
       "<style scoped>\n",
       "    .dataframe tbody tr th:only-of-type {\n",
       "        vertical-align: middle;\n",
       "    }\n",
       "\n",
       "    .dataframe tbody tr th {\n",
       "        vertical-align: top;\n",
       "    }\n",
       "\n",
       "    .dataframe thead th {\n",
       "        text-align: right;\n",
       "    }\n",
       "</style>\n",
       "<table border=\"1\" class=\"dataframe\">\n",
       "  <thead>\n",
       "    <tr style=\"text-align: right;\">\n",
       "      <th></th>\n",
       "      <th>Order ID</th>\n",
       "      <th>Product</th>\n",
       "      <th>Quantity Ordered</th>\n",
       "      <th>Price Each</th>\n",
       "      <th>Order Date</th>\n",
       "      <th>Purchase Address</th>\n",
       "    </tr>\n",
       "  </thead>\n",
       "  <tbody>\n",
       "    <tr>\n",
       "      <th>1</th>\n",
       "      <td>NaN</td>\n",
       "      <td>NaN</td>\n",
       "      <td>NaN</td>\n",
       "      <td>NaN</td>\n",
       "      <td>NaN</td>\n",
       "      <td>NaN</td>\n",
       "    </tr>\n",
       "    <tr>\n",
       "      <th>356</th>\n",
       "      <td>NaN</td>\n",
       "      <td>NaN</td>\n",
       "      <td>NaN</td>\n",
       "      <td>NaN</td>\n",
       "      <td>NaN</td>\n",
       "      <td>NaN</td>\n",
       "    </tr>\n",
       "    <tr>\n",
       "      <th>735</th>\n",
       "      <td>NaN</td>\n",
       "      <td>NaN</td>\n",
       "      <td>NaN</td>\n",
       "      <td>NaN</td>\n",
       "      <td>NaN</td>\n",
       "      <td>NaN</td>\n",
       "    </tr>\n",
       "    <tr>\n",
       "      <th>1433</th>\n",
       "      <td>NaN</td>\n",
       "      <td>NaN</td>\n",
       "      <td>NaN</td>\n",
       "      <td>NaN</td>\n",
       "      <td>NaN</td>\n",
       "      <td>NaN</td>\n",
       "    </tr>\n",
       "    <tr>\n",
       "      <th>1553</th>\n",
       "      <td>NaN</td>\n",
       "      <td>NaN</td>\n",
       "      <td>NaN</td>\n",
       "      <td>NaN</td>\n",
       "      <td>NaN</td>\n",
       "      <td>NaN</td>\n",
       "    </tr>\n",
       "    <tr>\n",
       "      <th>...</th>\n",
       "      <td>...</td>\n",
       "      <td>...</td>\n",
       "      <td>...</td>\n",
       "      <td>...</td>\n",
       "      <td>...</td>\n",
       "      <td>...</td>\n",
       "    </tr>\n",
       "    <tr>\n",
       "      <th>185176</th>\n",
       "      <td>NaN</td>\n",
       "      <td>NaN</td>\n",
       "      <td>NaN</td>\n",
       "      <td>NaN</td>\n",
       "      <td>NaN</td>\n",
       "      <td>NaN</td>\n",
       "    </tr>\n",
       "    <tr>\n",
       "      <th>185438</th>\n",
       "      <td>NaN</td>\n",
       "      <td>NaN</td>\n",
       "      <td>NaN</td>\n",
       "      <td>NaN</td>\n",
       "      <td>NaN</td>\n",
       "      <td>NaN</td>\n",
       "    </tr>\n",
       "    <tr>\n",
       "      <th>186042</th>\n",
       "      <td>NaN</td>\n",
       "      <td>NaN</td>\n",
       "      <td>NaN</td>\n",
       "      <td>NaN</td>\n",
       "      <td>NaN</td>\n",
       "      <td>NaN</td>\n",
       "    </tr>\n",
       "    <tr>\n",
       "      <th>186548</th>\n",
       "      <td>NaN</td>\n",
       "      <td>NaN</td>\n",
       "      <td>NaN</td>\n",
       "      <td>NaN</td>\n",
       "      <td>NaN</td>\n",
       "      <td>NaN</td>\n",
       "    </tr>\n",
       "    <tr>\n",
       "      <th>186826</th>\n",
       "      <td>NaN</td>\n",
       "      <td>NaN</td>\n",
       "      <td>NaN</td>\n",
       "      <td>NaN</td>\n",
       "      <td>NaN</td>\n",
       "      <td>NaN</td>\n",
       "    </tr>\n",
       "  </tbody>\n",
       "</table>\n",
       "<p>545 rows × 6 columns</p>\n",
       "</div>"
      ],
      "text/plain": [
       "       Order ID Product Quantity Ordered Price Each Order Date  \\\n",
       "1           NaN     NaN              NaN        NaN        NaN   \n",
       "356         NaN     NaN              NaN        NaN        NaN   \n",
       "735         NaN     NaN              NaN        NaN        NaN   \n",
       "1433        NaN     NaN              NaN        NaN        NaN   \n",
       "1553        NaN     NaN              NaN        NaN        NaN   \n",
       "...         ...     ...              ...        ...        ...   \n",
       "185176      NaN     NaN              NaN        NaN        NaN   \n",
       "185438      NaN     NaN              NaN        NaN        NaN   \n",
       "186042      NaN     NaN              NaN        NaN        NaN   \n",
       "186548      NaN     NaN              NaN        NaN        NaN   \n",
       "186826      NaN     NaN              NaN        NaN        NaN   \n",
       "\n",
       "       Purchase Address  \n",
       "1                   NaN  \n",
       "356                 NaN  \n",
       "735                 NaN  \n",
       "1433                NaN  \n",
       "1553                NaN  \n",
       "...                 ...  \n",
       "185176              NaN  \n",
       "185438              NaN  \n",
       "186042              NaN  \n",
       "186548              NaN  \n",
       "186826              NaN  \n",
       "\n",
       "[545 rows x 6 columns]"
      ]
     },
     "execution_count": 10,
     "metadata": {},
     "output_type": "execute_result"
    }
   ],
   "source": [
    "nan_values = df[df.isna().any(axis=1)]\n",
    "nan_values"
   ]
  },
  {
   "cell_type": "markdown",
   "id": "59b1bfbe-c30e-4128-80f4-b5ff31a83631",
   "metadata": {},
   "source": [
    "Der Datensatz enthält viele fehlende Werte. Wir verwenden den Befehl dropna(), um alle fehlenden Werte zu entfernen  "
   ]
  },
  {
   "cell_type": "code",
   "execution_count": 11,
   "id": "8d29d36f-ab6b-4d35-ab82-b016215e34bf",
   "metadata": {},
   "outputs": [],
   "source": [
    "df_new = df.dropna(how = 'all')"
   ]
  },
  {
   "cell_type": "code",
   "execution_count": 12,
   "id": "f0954b6f-a073-4a04-967f-e11b7a4a3702",
   "metadata": {},
   "outputs": [
    {
     "data": {
      "text/html": [
       "<div>\n",
       "<style scoped>\n",
       "    .dataframe tbody tr th:only-of-type {\n",
       "        vertical-align: middle;\n",
       "    }\n",
       "\n",
       "    .dataframe tbody tr th {\n",
       "        vertical-align: top;\n",
       "    }\n",
       "\n",
       "    .dataframe thead th {\n",
       "        text-align: right;\n",
       "    }\n",
       "</style>\n",
       "<table border=\"1\" class=\"dataframe\">\n",
       "  <thead>\n",
       "    <tr style=\"text-align: right;\">\n",
       "      <th></th>\n",
       "      <th>Order ID</th>\n",
       "      <th>Product</th>\n",
       "      <th>Quantity Ordered</th>\n",
       "      <th>Price Each</th>\n",
       "      <th>Order Date</th>\n",
       "      <th>Purchase Address</th>\n",
       "    </tr>\n",
       "  </thead>\n",
       "  <tbody>\n",
       "    <tr>\n",
       "      <th>0</th>\n",
       "      <td>False</td>\n",
       "      <td>False</td>\n",
       "      <td>False</td>\n",
       "      <td>False</td>\n",
       "      <td>False</td>\n",
       "      <td>False</td>\n",
       "    </tr>\n",
       "    <tr>\n",
       "      <th>2</th>\n",
       "      <td>False</td>\n",
       "      <td>False</td>\n",
       "      <td>False</td>\n",
       "      <td>False</td>\n",
       "      <td>False</td>\n",
       "      <td>False</td>\n",
       "    </tr>\n",
       "    <tr>\n",
       "      <th>3</th>\n",
       "      <td>False</td>\n",
       "      <td>False</td>\n",
       "      <td>False</td>\n",
       "      <td>False</td>\n",
       "      <td>False</td>\n",
       "      <td>False</td>\n",
       "    </tr>\n",
       "    <tr>\n",
       "      <th>4</th>\n",
       "      <td>False</td>\n",
       "      <td>False</td>\n",
       "      <td>False</td>\n",
       "      <td>False</td>\n",
       "      <td>False</td>\n",
       "      <td>False</td>\n",
       "    </tr>\n",
       "    <tr>\n",
       "      <th>5</th>\n",
       "      <td>False</td>\n",
       "      <td>False</td>\n",
       "      <td>False</td>\n",
       "      <td>False</td>\n",
       "      <td>False</td>\n",
       "      <td>False</td>\n",
       "    </tr>\n",
       "    <tr>\n",
       "      <th>...</th>\n",
       "      <td>...</td>\n",
       "      <td>...</td>\n",
       "      <td>...</td>\n",
       "      <td>...</td>\n",
       "      <td>...</td>\n",
       "      <td>...</td>\n",
       "    </tr>\n",
       "    <tr>\n",
       "      <th>186845</th>\n",
       "      <td>False</td>\n",
       "      <td>False</td>\n",
       "      <td>False</td>\n",
       "      <td>False</td>\n",
       "      <td>False</td>\n",
       "      <td>False</td>\n",
       "    </tr>\n",
       "    <tr>\n",
       "      <th>186846</th>\n",
       "      <td>False</td>\n",
       "      <td>False</td>\n",
       "      <td>False</td>\n",
       "      <td>False</td>\n",
       "      <td>False</td>\n",
       "      <td>False</td>\n",
       "    </tr>\n",
       "    <tr>\n",
       "      <th>186847</th>\n",
       "      <td>False</td>\n",
       "      <td>False</td>\n",
       "      <td>False</td>\n",
       "      <td>False</td>\n",
       "      <td>False</td>\n",
       "      <td>False</td>\n",
       "    </tr>\n",
       "    <tr>\n",
       "      <th>186848</th>\n",
       "      <td>False</td>\n",
       "      <td>False</td>\n",
       "      <td>False</td>\n",
       "      <td>False</td>\n",
       "      <td>False</td>\n",
       "      <td>False</td>\n",
       "    </tr>\n",
       "    <tr>\n",
       "      <th>186849</th>\n",
       "      <td>False</td>\n",
       "      <td>False</td>\n",
       "      <td>False</td>\n",
       "      <td>False</td>\n",
       "      <td>False</td>\n",
       "      <td>False</td>\n",
       "    </tr>\n",
       "  </tbody>\n",
       "</table>\n",
       "<p>186305 rows × 6 columns</p>\n",
       "</div>"
      ],
      "text/plain": [
       "        Order ID  Product  Quantity Ordered  Price Each  Order Date  \\\n",
       "0          False    False             False       False       False   \n",
       "2          False    False             False       False       False   \n",
       "3          False    False             False       False       False   \n",
       "4          False    False             False       False       False   \n",
       "5          False    False             False       False       False   \n",
       "...          ...      ...               ...         ...         ...   \n",
       "186845     False    False             False       False       False   \n",
       "186846     False    False             False       False       False   \n",
       "186847     False    False             False       False       False   \n",
       "186848     False    False             False       False       False   \n",
       "186849     False    False             False       False       False   \n",
       "\n",
       "        Purchase Address  \n",
       "0                  False  \n",
       "2                  False  \n",
       "3                  False  \n",
       "4                  False  \n",
       "5                  False  \n",
       "...                  ...  \n",
       "186845             False  \n",
       "186846             False  \n",
       "186847             False  \n",
       "186848             False  \n",
       "186849             False  \n",
       "\n",
       "[186305 rows x 6 columns]"
      ]
     },
     "execution_count": 12,
     "metadata": {},
     "output_type": "execute_result"
    }
   ],
   "source": [
    "df_new.isna()"
   ]
  },
  {
   "cell_type": "markdown",
   "id": "80f4e1f4-ce8e-426e-9b6b-1e3d45c08ef2",
   "metadata": {},
   "source": [
    "<hr>"
   ]
  },
  {
   "cell_type": "markdown",
   "id": "cc981dff-6149-4e6f-a5d2-ab646e3bff19",
   "metadata": {},
   "source": [
    "### In welchem Monat wurden die meisten Verkäufe getätigt?"
   ]
  },
  {
   "cell_type": "markdown",
   "id": "b3f6b9f6-da1b-4f8c-bbc6-5aa741ddb649",
   "metadata": {},
   "source": [
    "<div style=\"border-left: 2px solid black; padding-left: 10px;\">\n",
    "Um herauszufinden, in welchem Monat die meisten Verkäufe getätigt wurden, müssen wir eine weitere Spalte \"Monat\" hinzufügen, die entsprechend aus der Spalte \"Bestelldatum\" extrahiert wird.\n",
    "    </div>"
   ]
  },
  {
   "cell_type": "code",
   "execution_count": 13,
   "id": "f350e9af-5155-43a6-875f-d52c15aa6b71",
   "metadata": {},
   "outputs": [
    {
     "data": {
      "text/html": [
       "<div>\n",
       "<style scoped>\n",
       "    .dataframe tbody tr th:only-of-type {\n",
       "        vertical-align: middle;\n",
       "    }\n",
       "\n",
       "    .dataframe tbody tr th {\n",
       "        vertical-align: top;\n",
       "    }\n",
       "\n",
       "    .dataframe thead th {\n",
       "        text-align: right;\n",
       "    }\n",
       "</style>\n",
       "<table border=\"1\" class=\"dataframe\">\n",
       "  <thead>\n",
       "    <tr style=\"text-align: right;\">\n",
       "      <th></th>\n",
       "      <th>Order ID</th>\n",
       "      <th>Product</th>\n",
       "      <th>Quantity Ordered</th>\n",
       "      <th>Price Each</th>\n",
       "      <th>Order Date</th>\n",
       "      <th>Purchase Address</th>\n",
       "      <th>month</th>\n",
       "    </tr>\n",
       "  </thead>\n",
       "  <tbody>\n",
       "    <tr>\n",
       "      <th>0</th>\n",
       "      <td>176558</td>\n",
       "      <td>USB-C Charging Cable</td>\n",
       "      <td>2</td>\n",
       "      <td>11.95</td>\n",
       "      <td>04/19/19 08:46</td>\n",
       "      <td>917 1st St, Dallas, TX 75001</td>\n",
       "      <td>4</td>\n",
       "    </tr>\n",
       "    <tr>\n",
       "      <th>2</th>\n",
       "      <td>176559</td>\n",
       "      <td>Bose SoundSport Headphones</td>\n",
       "      <td>1</td>\n",
       "      <td>99.99</td>\n",
       "      <td>04/07/19 22:30</td>\n",
       "      <td>682 Chestnut St, Boston, MA 02215</td>\n",
       "      <td>4</td>\n",
       "    </tr>\n",
       "    <tr>\n",
       "      <th>3</th>\n",
       "      <td>176560</td>\n",
       "      <td>Google Phone</td>\n",
       "      <td>1</td>\n",
       "      <td>600</td>\n",
       "      <td>04/12/19 14:38</td>\n",
       "      <td>669 Spruce St, Los Angeles, CA 90001</td>\n",
       "      <td>4</td>\n",
       "    </tr>\n",
       "    <tr>\n",
       "      <th>4</th>\n",
       "      <td>176560</td>\n",
       "      <td>Wired Headphones</td>\n",
       "      <td>1</td>\n",
       "      <td>11.99</td>\n",
       "      <td>04/12/19 14:38</td>\n",
       "      <td>669 Spruce St, Los Angeles, CA 90001</td>\n",
       "      <td>4</td>\n",
       "    </tr>\n",
       "    <tr>\n",
       "      <th>5</th>\n",
       "      <td>176561</td>\n",
       "      <td>Wired Headphones</td>\n",
       "      <td>1</td>\n",
       "      <td>11.99</td>\n",
       "      <td>04/30/19 09:27</td>\n",
       "      <td>333 8th St, Los Angeles, CA 90001</td>\n",
       "      <td>4</td>\n",
       "    </tr>\n",
       "  </tbody>\n",
       "</table>\n",
       "</div>"
      ],
      "text/plain": [
       "  Order ID                     Product Quantity Ordered Price Each  \\\n",
       "0   176558        USB-C Charging Cable                2      11.95   \n",
       "2   176559  Bose SoundSport Headphones                1      99.99   \n",
       "3   176560                Google Phone                1        600   \n",
       "4   176560            Wired Headphones                1      11.99   \n",
       "5   176561            Wired Headphones                1      11.99   \n",
       "\n",
       "       Order Date                      Purchase Address  month  \n",
       "0  04/19/19 08:46          917 1st St, Dallas, TX 75001      4  \n",
       "2  04/07/19 22:30     682 Chestnut St, Boston, MA 02215      4  \n",
       "3  04/12/19 14:38  669 Spruce St, Los Angeles, CA 90001      4  \n",
       "4  04/12/19 14:38  669 Spruce St, Los Angeles, CA 90001      4  \n",
       "5  04/30/19 09:27     333 8th St, Los Angeles, CA 90001      4  "
      ]
     },
     "execution_count": 13,
     "metadata": {},
     "output_type": "execute_result"
    }
   ],
   "source": [
    "df_new = df_new[df_new['Order Date'].str[0:2]!='Or']\n",
    "\n",
    "df_new['month'] = df_new['Order Date'].str[0:2]\n",
    "df_new['month'] = df_new['month'].astype('int32')\n",
    "df_new.head()"
   ]
  },
  {
   "cell_type": "markdown",
   "id": "a12e0be6-bcac-4ad9-af78-be19af189039",
   "metadata": {},
   "source": [
    "Konvertierung von \"Preis pro\" und \"Bestellte Menge\" in numerische Werte, um die Spalte \"Verkauf\" hinzuzufügen, die die Verkaufszahlen für jedes unserer Produkte darstellt."
   ]
  },
  {
   "cell_type": "code",
   "execution_count": 14,
   "id": "59191841-0dee-4ca9-b8aa-67fbae632945",
   "metadata": {},
   "outputs": [],
   "source": [
    "df_new[\"Price Each\"] = pd.to_numeric(df_new[\"Price Each\"])"
   ]
  },
  {
   "cell_type": "code",
   "execution_count": 15,
   "id": "1e332c8c-0208-4309-a42e-ffc82d81103b",
   "metadata": {},
   "outputs": [],
   "source": [
    "df_new[\"Quantity Ordered\"] = pd.to_numeric(df_new[\"Quantity Ordered\"])"
   ]
  },
  {
   "cell_type": "code",
   "execution_count": 16,
   "id": "da9ef28a-9087-41bd-9e66-08e808c8878b",
   "metadata": {},
   "outputs": [],
   "source": [
    "df_new[\"Sales\"] = df_new[\"Quantity Ordered\"] * df_new[\"Price Each\"]"
   ]
  },
  {
   "cell_type": "code",
   "execution_count": 17,
   "id": "550c445f-721e-4409-879c-bd4d4f94fed3",
   "metadata": {},
   "outputs": [
    {
     "data": {
      "text/html": [
       "<div>\n",
       "<style scoped>\n",
       "    .dataframe tbody tr th:only-of-type {\n",
       "        vertical-align: middle;\n",
       "    }\n",
       "\n",
       "    .dataframe tbody tr th {\n",
       "        vertical-align: top;\n",
       "    }\n",
       "\n",
       "    .dataframe thead th {\n",
       "        text-align: right;\n",
       "    }\n",
       "</style>\n",
       "<table border=\"1\" class=\"dataframe\">\n",
       "  <thead>\n",
       "    <tr style=\"text-align: right;\">\n",
       "      <th></th>\n",
       "      <th>Order ID</th>\n",
       "      <th>Product</th>\n",
       "      <th>Quantity Ordered</th>\n",
       "      <th>Price Each</th>\n",
       "      <th>Order Date</th>\n",
       "      <th>Purchase Address</th>\n",
       "      <th>month</th>\n",
       "      <th>Sales</th>\n",
       "    </tr>\n",
       "  </thead>\n",
       "  <tbody>\n",
       "    <tr>\n",
       "      <th>0</th>\n",
       "      <td>176558</td>\n",
       "      <td>USB-C Charging Cable</td>\n",
       "      <td>2</td>\n",
       "      <td>11.95</td>\n",
       "      <td>04/19/19 08:46</td>\n",
       "      <td>917 1st St, Dallas, TX 75001</td>\n",
       "      <td>4</td>\n",
       "      <td>23.90</td>\n",
       "    </tr>\n",
       "    <tr>\n",
       "      <th>2</th>\n",
       "      <td>176559</td>\n",
       "      <td>Bose SoundSport Headphones</td>\n",
       "      <td>1</td>\n",
       "      <td>99.99</td>\n",
       "      <td>04/07/19 22:30</td>\n",
       "      <td>682 Chestnut St, Boston, MA 02215</td>\n",
       "      <td>4</td>\n",
       "      <td>99.99</td>\n",
       "    </tr>\n",
       "    <tr>\n",
       "      <th>3</th>\n",
       "      <td>176560</td>\n",
       "      <td>Google Phone</td>\n",
       "      <td>1</td>\n",
       "      <td>600.00</td>\n",
       "      <td>04/12/19 14:38</td>\n",
       "      <td>669 Spruce St, Los Angeles, CA 90001</td>\n",
       "      <td>4</td>\n",
       "      <td>600.00</td>\n",
       "    </tr>\n",
       "    <tr>\n",
       "      <th>4</th>\n",
       "      <td>176560</td>\n",
       "      <td>Wired Headphones</td>\n",
       "      <td>1</td>\n",
       "      <td>11.99</td>\n",
       "      <td>04/12/19 14:38</td>\n",
       "      <td>669 Spruce St, Los Angeles, CA 90001</td>\n",
       "      <td>4</td>\n",
       "      <td>11.99</td>\n",
       "    </tr>\n",
       "    <tr>\n",
       "      <th>5</th>\n",
       "      <td>176561</td>\n",
       "      <td>Wired Headphones</td>\n",
       "      <td>1</td>\n",
       "      <td>11.99</td>\n",
       "      <td>04/30/19 09:27</td>\n",
       "      <td>333 8th St, Los Angeles, CA 90001</td>\n",
       "      <td>4</td>\n",
       "      <td>11.99</td>\n",
       "    </tr>\n",
       "  </tbody>\n",
       "</table>\n",
       "</div>"
      ],
      "text/plain": [
       "  Order ID                     Product  Quantity Ordered  Price Each  \\\n",
       "0   176558        USB-C Charging Cable                 2       11.95   \n",
       "2   176559  Bose SoundSport Headphones                 1       99.99   \n",
       "3   176560                Google Phone                 1      600.00   \n",
       "4   176560            Wired Headphones                 1       11.99   \n",
       "5   176561            Wired Headphones                 1       11.99   \n",
       "\n",
       "       Order Date                      Purchase Address  month   Sales  \n",
       "0  04/19/19 08:46          917 1st St, Dallas, TX 75001      4   23.90  \n",
       "2  04/07/19 22:30     682 Chestnut St, Boston, MA 02215      4   99.99  \n",
       "3  04/12/19 14:38  669 Spruce St, Los Angeles, CA 90001      4  600.00  \n",
       "4  04/12/19 14:38  669 Spruce St, Los Angeles, CA 90001      4   11.99  \n",
       "5  04/30/19 09:27     333 8th St, Los Angeles, CA 90001      4   11.99  "
      ]
     },
     "execution_count": 17,
     "metadata": {},
     "output_type": "execute_result"
    }
   ],
   "source": [
    "df_new.head()"
   ]
  },
  {
   "cell_type": "code",
   "execution_count": 18,
   "id": "7db8fe33-1e96-4d63-bf8d-50232c70e55b",
   "metadata": {},
   "outputs": [
    {
     "name": "stdout",
     "output_type": "stream",
     "text": [
      "<class 'pandas.core.frame.DataFrame'>\n",
      "Int64Index: 185950 entries, 0 to 186849\n",
      "Data columns (total 8 columns):\n",
      " #   Column            Non-Null Count   Dtype  \n",
      "---  ------            --------------   -----  \n",
      " 0   Order ID          185950 non-null  object \n",
      " 1   Product           185950 non-null  object \n",
      " 2   Quantity Ordered  185950 non-null  int64  \n",
      " 3   Price Each        185950 non-null  float64\n",
      " 4   Order Date        185950 non-null  object \n",
      " 5   Purchase Address  185950 non-null  object \n",
      " 6   month             185950 non-null  int32  \n",
      " 7   Sales             185950 non-null  float64\n",
      "dtypes: float64(2), int32(1), int64(1), object(4)\n",
      "memory usage: 12.1+ MB\n"
     ]
    }
   ],
   "source": [
    "df_new.info()"
   ]
  },
  {
   "cell_type": "markdown",
   "id": "f0c9d83b-e72e-4bd2-90e0-829fb66b7794",
   "metadata": {},
   "source": [
    "### Summary Statistics"
   ]
  },
  {
   "cell_type": "code",
   "execution_count": 19,
   "id": "83d0f081-3d45-45df-8510-6c580634d833",
   "metadata": {},
   "outputs": [
    {
     "data": {
      "text/html": [
       "<div>\n",
       "<style scoped>\n",
       "    .dataframe tbody tr th:only-of-type {\n",
       "        vertical-align: middle;\n",
       "    }\n",
       "\n",
       "    .dataframe tbody tr th {\n",
       "        vertical-align: top;\n",
       "    }\n",
       "\n",
       "    .dataframe thead th {\n",
       "        text-align: right;\n",
       "    }\n",
       "</style>\n",
       "<table border=\"1\" class=\"dataframe\">\n",
       "  <thead>\n",
       "    <tr style=\"text-align: right;\">\n",
       "      <th></th>\n",
       "      <th>Quantity Ordered</th>\n",
       "      <th>Price Each</th>\n",
       "      <th>month</th>\n",
       "      <th>Sales</th>\n",
       "    </tr>\n",
       "  </thead>\n",
       "  <tbody>\n",
       "    <tr>\n",
       "      <th>count</th>\n",
       "      <td>185950.000000</td>\n",
       "      <td>185950.000000</td>\n",
       "      <td>185950.000000</td>\n",
       "      <td>185950.000000</td>\n",
       "    </tr>\n",
       "    <tr>\n",
       "      <th>mean</th>\n",
       "      <td>1.124383</td>\n",
       "      <td>184.399735</td>\n",
       "      <td>7.059140</td>\n",
       "      <td>185.490917</td>\n",
       "    </tr>\n",
       "    <tr>\n",
       "      <th>std</th>\n",
       "      <td>0.442793</td>\n",
       "      <td>332.731330</td>\n",
       "      <td>3.502996</td>\n",
       "      <td>332.919771</td>\n",
       "    </tr>\n",
       "    <tr>\n",
       "      <th>min</th>\n",
       "      <td>1.000000</td>\n",
       "      <td>2.990000</td>\n",
       "      <td>1.000000</td>\n",
       "      <td>2.990000</td>\n",
       "    </tr>\n",
       "    <tr>\n",
       "      <th>25%</th>\n",
       "      <td>1.000000</td>\n",
       "      <td>11.950000</td>\n",
       "      <td>4.000000</td>\n",
       "      <td>11.950000</td>\n",
       "    </tr>\n",
       "    <tr>\n",
       "      <th>50%</th>\n",
       "      <td>1.000000</td>\n",
       "      <td>14.950000</td>\n",
       "      <td>7.000000</td>\n",
       "      <td>14.950000</td>\n",
       "    </tr>\n",
       "    <tr>\n",
       "      <th>75%</th>\n",
       "      <td>1.000000</td>\n",
       "      <td>150.000000</td>\n",
       "      <td>10.000000</td>\n",
       "      <td>150.000000</td>\n",
       "    </tr>\n",
       "    <tr>\n",
       "      <th>max</th>\n",
       "      <td>9.000000</td>\n",
       "      <td>1700.000000</td>\n",
       "      <td>12.000000</td>\n",
       "      <td>3400.000000</td>\n",
       "    </tr>\n",
       "  </tbody>\n",
       "</table>\n",
       "</div>"
      ],
      "text/plain": [
       "       Quantity Ordered     Price Each          month          Sales\n",
       "count     185950.000000  185950.000000  185950.000000  185950.000000\n",
       "mean           1.124383     184.399735       7.059140     185.490917\n",
       "std            0.442793     332.731330       3.502996     332.919771\n",
       "min            1.000000       2.990000       1.000000       2.990000\n",
       "25%            1.000000      11.950000       4.000000      11.950000\n",
       "50%            1.000000      14.950000       7.000000      14.950000\n",
       "75%            1.000000     150.000000      10.000000     150.000000\n",
       "max            9.000000    1700.000000      12.000000    3400.000000"
      ]
     },
     "execution_count": 19,
     "metadata": {},
     "output_type": "execute_result"
    }
   ],
   "source": [
    "df_new.describe()"
   ]
  },
  {
   "cell_type": "code",
   "execution_count": 20,
   "id": "84eea493-ddb4-4dbb-8702-1b27ad2c899c",
   "metadata": {},
   "outputs": [
    {
     "data": {
      "text/plain": [
       "array([[<AxesSubplot:title={'center':'Quantity Ordered'}>,\n",
       "        <AxesSubplot:title={'center':'Price Each'}>],\n",
       "       [<AxesSubplot:title={'center':'month'}>,\n",
       "        <AxesSubplot:title={'center':'Sales'}>]], dtype=object)"
      ]
     },
     "execution_count": 20,
     "metadata": {},
     "output_type": "execute_result"
    },
    {
     "data": {
      "image/png": "[encoded data removed]",
      "text/plain": [
       "<Figure size 720x504 with 4 Axes>"
      ]
     },
     "metadata": {
      "needs_background": "light"
     },
     "output_type": "display_data"
    }
   ],
   "source": [
    "df_new.hist()"
   ]
  },
  {
   "cell_type": "markdown",
   "id": "50f0b9c9-0929-4a0c-a092-0351e85c9aa0",
   "metadata": {},
   "source": [
    "Data transformation step before finding the month with the highest number of sales"
   ]
  },
  {
   "cell_type": "markdown",
   "id": "710c8f2d-a87e-46f1-a433-0ee70c27bd2a",
   "metadata": {},
   "source": [
    " # Data Transformation"
   ]
  },
  {
   "cell_type": "markdown",
   "id": "d6d6b0da-ab26-43f8-a889-6dc00f8c7590",
   "metadata": {},
   "source": [
    "## Z-score"
   ]
  },
  {
   "cell_type": "markdown",
   "id": "ee4ac97e-3c31-4430-8c8e-300a2d0355c8",
   "metadata": {},
   "source": [
    "Gathering all the needed columns of numeric type in a separate dataframe."
   ]
  },
  {
   "cell_type": "code",
   "execution_count": 21,
   "id": "24ee50cd-112f-4281-917c-a085fe6ff7b8",
   "metadata": {},
   "outputs": [],
   "source": [
    "data= {'Quantity ordered' : df_new[\"Quantity Ordered\"],'Price Each':df_new[\"Price Each\"],'month' : df_new[\"month\"],'Sales':df_new[\"Sales\"]}"
   ]
  },
  {
   "cell_type": "code",
   "execution_count": 22,
   "id": "50948825-aa1d-4e2f-87ed-e27bee30fb0f",
   "metadata": {},
   "outputs": [
    {
     "data": {
      "text/plain": [
       "Quantity ordered      1.124383\n",
       "Price Each          184.399735\n",
       "month                 7.059140\n",
       "Sales               185.490917\n",
       "dtype: float64"
      ]
     },
     "execution_count": 22,
     "metadata": {},
     "output_type": "execute_result"
    }
   ],
   "source": [
    "for_mean = pd.DataFrame(data)\n",
    "for_mean.mean()"
   ]
  },
  {
   "cell_type": "code",
   "execution_count": 23,
   "id": "19cceb48-2ebb-456a-b5a6-7dc61b47db2c",
   "metadata": {},
   "outputs": [
    {
     "data": {
      "text/html": [
       "<div>\n",
       "<style scoped>\n",
       "    .dataframe tbody tr th:only-of-type {\n",
       "        vertical-align: middle;\n",
       "    }\n",
       "\n",
       "    .dataframe tbody tr th {\n",
       "        vertical-align: top;\n",
       "    }\n",
       "\n",
       "    .dataframe thead th {\n",
       "        text-align: right;\n",
       "    }\n",
       "</style>\n",
       "<table border=\"1\" class=\"dataframe\">\n",
       "  <thead>\n",
       "    <tr style=\"text-align: right;\">\n",
       "      <th></th>\n",
       "      <th>Quantity ordered</th>\n",
       "      <th>Price Each</th>\n",
       "      <th>month</th>\n",
       "      <th>Sales</th>\n",
       "    </tr>\n",
       "  </thead>\n",
       "  <tbody>\n",
       "    <tr>\n",
       "      <th>0</th>\n",
       "      <td>1.977488</td>\n",
       "      <td>-0.518285</td>\n",
       "      <td>-0.873292</td>\n",
       "      <td>-0.485375</td>\n",
       "    </tr>\n",
       "    <tr>\n",
       "      <th>2</th>\n",
       "      <td>-0.280906</td>\n",
       "      <td>-0.253687</td>\n",
       "      <td>-0.873292</td>\n",
       "      <td>-0.256821</td>\n",
       "    </tr>\n",
       "    <tr>\n",
       "      <th>3</th>\n",
       "      <td>-0.280906</td>\n",
       "      <td>1.249057</td>\n",
       "      <td>-0.873292</td>\n",
       "      <td>1.245072</td>\n",
       "    </tr>\n",
       "    <tr>\n",
       "      <th>4</th>\n",
       "      <td>-0.280906</td>\n",
       "      <td>-0.518165</td>\n",
       "      <td>-0.873292</td>\n",
       "      <td>-0.521149</td>\n",
       "    </tr>\n",
       "    <tr>\n",
       "      <th>5</th>\n",
       "      <td>-0.280906</td>\n",
       "      <td>-0.518165</td>\n",
       "      <td>-0.873292</td>\n",
       "      <td>-0.521149</td>\n",
       "    </tr>\n",
       "    <tr>\n",
       "      <th>6</th>\n",
       "      <td>-0.280906</td>\n",
       "      <td>-0.518285</td>\n",
       "      <td>-0.873292</td>\n",
       "      <td>-0.521269</td>\n",
       "    </tr>\n",
       "    <tr>\n",
       "      <th>7</th>\n",
       "      <td>-0.280906</td>\n",
       "      <td>-0.253687</td>\n",
       "      <td>-0.873292</td>\n",
       "      <td>-0.256821</td>\n",
       "    </tr>\n",
       "    <tr>\n",
       "      <th>8</th>\n",
       "      <td>-0.280906</td>\n",
       "      <td>-0.518285</td>\n",
       "      <td>-0.873292</td>\n",
       "      <td>-0.521269</td>\n",
       "    </tr>\n",
       "    <tr>\n",
       "      <th>9</th>\n",
       "      <td>-0.280906</td>\n",
       "      <td>4.555027</td>\n",
       "      <td>-0.873292</td>\n",
       "      <td>4.549171</td>\n",
       "    </tr>\n",
       "    <tr>\n",
       "      <th>10</th>\n",
       "      <td>-0.280906</td>\n",
       "      <td>-0.518165</td>\n",
       "      <td>-0.873292</td>\n",
       "      <td>-0.521149</td>\n",
       "    </tr>\n",
       "    <tr>\n",
       "      <th>11</th>\n",
       "      <td>-0.280906</td>\n",
       "      <td>1.249057</td>\n",
       "      <td>-0.873292</td>\n",
       "      <td>1.245072</td>\n",
       "    </tr>\n",
       "    <tr>\n",
       "      <th>12</th>\n",
       "      <td>-0.280906</td>\n",
       "      <td>-0.509269</td>\n",
       "      <td>-0.873292</td>\n",
       "      <td>-0.512258</td>\n",
       "    </tr>\n",
       "    <tr>\n",
       "      <th>13</th>\n",
       "      <td>-0.280906</td>\n",
       "      <td>0.617887</td>\n",
       "      <td>-0.873292</td>\n",
       "      <td>0.614259</td>\n",
       "    </tr>\n",
       "    <tr>\n",
       "      <th>14</th>\n",
       "      <td>-0.280906</td>\n",
       "      <td>-0.542659</td>\n",
       "      <td>-0.873292</td>\n",
       "      <td>-0.545630</td>\n",
       "    </tr>\n",
       "    <tr>\n",
       "      <th>15</th>\n",
       "      <td>-0.280906</td>\n",
       "      <td>-0.509269</td>\n",
       "      <td>-0.873292</td>\n",
       "      <td>-0.512258</td>\n",
       "    </tr>\n",
       "    <tr>\n",
       "      <th>16</th>\n",
       "      <td>-0.280906</td>\n",
       "      <td>-0.103386</td>\n",
       "      <td>-0.873292</td>\n",
       "      <td>-0.106605</td>\n",
       "    </tr>\n",
       "    <tr>\n",
       "      <th>17</th>\n",
       "      <td>-0.280906</td>\n",
       "      <td>-0.518285</td>\n",
       "      <td>-0.873292</td>\n",
       "      <td>-0.521269</td>\n",
       "    </tr>\n",
       "    <tr>\n",
       "      <th>18</th>\n",
       "      <td>-0.280906</td>\n",
       "      <td>1.249057</td>\n",
       "      <td>-0.873292</td>\n",
       "      <td>1.245072</td>\n",
       "    </tr>\n",
       "    <tr>\n",
       "      <th>19</th>\n",
       "      <td>-0.280906</td>\n",
       "      <td>-0.518285</td>\n",
       "      <td>-0.873292</td>\n",
       "      <td>-0.521269</td>\n",
       "    </tr>\n",
       "    <tr>\n",
       "      <th>20</th>\n",
       "      <td>-0.280906</td>\n",
       "      <td>-0.545214</td>\n",
       "      <td>-0.873292</td>\n",
       "      <td>-0.548183</td>\n",
       "    </tr>\n",
       "  </tbody>\n",
       "</table>\n",
       "</div>"
      ],
      "text/plain": [
       "    Quantity ordered  Price Each     month     Sales\n",
       "0           1.977488   -0.518285 -0.873292 -0.485375\n",
       "2          -0.280906   -0.253687 -0.873292 -0.256821\n",
       "3          -0.280906    1.249057 -0.873292  1.245072\n",
       "4          -0.280906   -0.518165 -0.873292 -0.521149\n",
       "5          -0.280906   -0.518165 -0.873292 -0.521149\n",
       "6          -0.280906   -0.518285 -0.873292 -0.521269\n",
       "7          -0.280906   -0.253687 -0.873292 -0.256821\n",
       "8          -0.280906   -0.518285 -0.873292 -0.521269\n",
       "9          -0.280906    4.555027 -0.873292  4.549171\n",
       "10         -0.280906   -0.518165 -0.873292 -0.521149\n",
       "11         -0.280906    1.249057 -0.873292  1.245072\n",
       "12         -0.280906   -0.509269 -0.873292 -0.512258\n",
       "13         -0.280906    0.617887 -0.873292  0.614259\n",
       "14         -0.280906   -0.542659 -0.873292 -0.545630\n",
       "15         -0.280906   -0.509269 -0.873292 -0.512258\n",
       "16         -0.280906   -0.103386 -0.873292 -0.106605\n",
       "17         -0.280906   -0.518285 -0.873292 -0.521269\n",
       "18         -0.280906    1.249057 -0.873292  1.245072\n",
       "19         -0.280906   -0.518285 -0.873292 -0.521269\n",
       "20         -0.280906   -0.545214 -0.873292 -0.548183"
      ]
     },
     "execution_count": 23,
     "metadata": {},
     "output_type": "execute_result"
    }
   ],
   "source": [
    "normalized_df=(for_mean-for_mean.mean())/for_mean.std()\n",
    "normalized_df[:20]"
   ]
  },
  {
   "cell_type": "markdown",
   "id": "7df3b2d8-0574-495c-8dfd-f49e37aace25",
   "metadata": {},
   "source": [
    "#### Wir können feststellen, dass die bestellte Menge jedes Produkts meistens 1 ist."
   ]
  },
  {
   "cell_type": "code",
   "execution_count": 24,
   "id": "2f1b26d5-afbe-4b82-b151-ebb14107743a",
   "metadata": {},
   "outputs": [
    {
     "data": {
      "text/plain": [
       "Text(0.5, 1.0, 'Bar plot of sales for each month')"
      ]
     },
     "execution_count": 24,
     "metadata": {},
     "output_type": "execute_result"
    },
    {
     "data": {
      "image/png": "[encoded data removed]",
      "text/plain": [
       "<Figure size 720x504 with 1 Axes>"
      ]
     },
     "metadata": {
      "needs_background": "light"
     },
     "output_type": "display_data"
    }
   ],
   "source": [
    "months = range(1,13)\n",
    "groupby = df_new.groupby(\"month\").sum()\n",
    "\n",
    "plt.bar(months, groupby[\"Sales\"])\n",
    "\n",
    "plt.xlabel(\"Months (1-12)\")\n",
    "plt.ylabel(\"Sales for each month\")\n",
    "\n",
    "plt.title(\"Bar plot of sales for each month\")"
   ]
  },
  {
   "cell_type": "markdown",
   "id": "3e356bd4-de7d-4eaf-af09-8ec6a663801e",
   "metadata": {},
   "source": [
    "#### Another representation form : Plot"
   ]
  },
  {
   "cell_type": "code",
   "execution_count": 25,
   "id": "e717f2cd-2fb2-40d6-b7b7-bfe11a3d2d3e",
   "metadata": {},
   "outputs": [
    {
     "data": {
      "text/plain": [
       "[<matplotlib.lines.Line2D at 0x18bf65bb400>]"
      ]
     },
     "execution_count": 25,
     "metadata": {},
     "output_type": "execute_result"
    },
    {
     "data": {
      "image/png": "[encoded data removed]",
      "text/plain": [
       "<Figure size 720x504 with 1 Axes>"
      ]
     },
     "metadata": {
      "needs_background": "light"
     },
     "output_type": "display_data"
    }
   ],
   "source": [
    "months = range(1,13)\n",
    "groupby = df_new.groupby(\"month\").sum()\n",
    "\n",
    "plt.plot(months, groupby[\"Sales\"])"
   ]
  },
  {
   "cell_type": "markdown",
   "id": "31026e3d-c8d4-4a2c-8fdf-00c6602b8251",
   "metadata": {},
   "source": [
    "<div style=\"border-left: 2px solid black; padding-left: 10px;\">\n",
    "Derzeit sind wir in der Lage, sowohl die höchsten als auch die niedrigsten Verkaufszahlen schnell zu ermitteln. Der Hauptzweck besteht darin, die Gründe für die Schwankungen in der Verkaufsleistung zwischen verschiedenen Monaten aufzudecken. Es ist möglich, dass erhöhte Ausgaben im April zu einem Anstieg der Produktverkäufe beigetragen haben. Außerdem könnte der Dezember, in dem Weihnachten gefeiert wird, die höchsten Verkaufszahlen für unsere Spitzenprodukte aufweisen. Dabei handelt es sich jedoch lediglich um Hypothesen, da wir nicht über ausreichende Daten verfügen, um sie zu belegen. \n",
    "    </div>"
   ]
  },
  {
   "cell_type": "markdown",
   "id": "543dad60-5980-4dd9-8845-c94da4a5eea1",
   "metadata": {},
   "source": [
    "## Visualisierung der Daten"
   ]
  },
  {
   "cell_type": "code",
   "execution_count": 26,
   "id": "1cc865a7-f38d-4ec5-97bf-34782931610f",
   "metadata": {},
   "outputs": [
    {
     "data": {
      "image/png": "[encoded data removed]",
      "text/plain": [
       "<Figure size 720x504 with 1 Axes>"
      ]
     },
     "metadata": {
      "needs_background": "light"
     },
     "output_type": "display_data"
    }
   ],
   "source": [
    "plt.scatter(data['Price Each'], data['Sales'])\n",
    "plt.xlabel('Price Each')\n",
    "plt.ylabel('Sales')\n",
    "plt.title('Scatter Plot: Price Each vs. Sales')\n",
    "plt.show()"
   ]
  },
  {
   "cell_type": "code",
   "execution_count": 27,
   "id": "6abb35f7-fcde-418d-833d-0536ef1526b8",
   "metadata": {},
   "outputs": [
    {
     "data": {
      "image/png": "[encoded data removed]",
      "text/plain": [
       "<Figure size 720x504 with 1 Axes>"
      ]
     },
     "metadata": {
      "needs_background": "light"
     },
     "output_type": "display_data"
    }
   ],
   "source": [
    "plt.scatter(df_new['Price Each'], df_new['Quantity Ordered'])\n",
    "plt.xlabel('Price Each')\n",
    "plt.ylabel('Quantity Ordered')\n",
    "plt.title('Scatter Plot: Price Each vs. Quantity Ordered')\n",
    "plt.show()"
   ]
  },
  {
   "cell_type": "markdown",
   "id": "2f86ba21-b420-4e33-802d-f4113b9c6e68",
   "metadata": {},
   "source": [
    "### Korrelationsmatrix"
   ]
  },
  {
   "cell_type": "code",
   "execution_count": 28,
   "id": "77cbc19d-8e8d-4623-8cfb-18264ca16007",
   "metadata": {},
   "outputs": [
    {
     "data": {
      "text/html": [
       "<div>\n",
       "<style scoped>\n",
       "    .dataframe tbody tr th:only-of-type {\n",
       "        vertical-align: middle;\n",
       "    }\n",
       "\n",
       "    .dataframe tbody tr th {\n",
       "        vertical-align: top;\n",
       "    }\n",
       "\n",
       "    .dataframe thead th {\n",
       "        text-align: right;\n",
       "    }\n",
       "</style>\n",
       "<table border=\"1\" class=\"dataframe\">\n",
       "  <thead>\n",
       "    <tr style=\"text-align: right;\">\n",
       "      <th></th>\n",
       "      <th>Quantity Ordered</th>\n",
       "      <th>Price Each</th>\n",
       "      <th>month</th>\n",
       "      <th>Sales</th>\n",
       "    </tr>\n",
       "  </thead>\n",
       "  <tbody>\n",
       "    <tr>\n",
       "      <th>Quantity Ordered</th>\n",
       "      <td>1.000000</td>\n",
       "      <td>-0.148272</td>\n",
       "      <td>0.000791</td>\n",
       "      <td>-0.139417</td>\n",
       "    </tr>\n",
       "    <tr>\n",
       "      <th>Price Each</th>\n",
       "      <td>-0.148272</td>\n",
       "      <td>1.000000</td>\n",
       "      <td>-0.003375</td>\n",
       "      <td>0.999203</td>\n",
       "    </tr>\n",
       "    <tr>\n",
       "      <th>month</th>\n",
       "      <td>0.000791</td>\n",
       "      <td>-0.003375</td>\n",
       "      <td>1.000000</td>\n",
       "      <td>-0.003466</td>\n",
       "    </tr>\n",
       "    <tr>\n",
       "      <th>Sales</th>\n",
       "      <td>-0.139417</td>\n",
       "      <td>0.999203</td>\n",
       "      <td>-0.003466</td>\n",
       "      <td>1.000000</td>\n",
       "    </tr>\n",
       "  </tbody>\n",
       "</table>\n",
       "</div>"
      ],
      "text/plain": [
       "                  Quantity Ordered  Price Each     month     Sales\n",
       "Quantity Ordered          1.000000   -0.148272  0.000791 -0.139417\n",
       "Price Each               -0.148272    1.000000 -0.003375  0.999203\n",
       "month                     0.000791   -0.003375  1.000000 -0.003466\n",
       "Sales                    -0.139417    0.999203 -0.003466  1.000000"
      ]
     },
     "execution_count": 28,
     "metadata": {},
     "output_type": "execute_result"
    }
   ],
   "source": [
    "df_new.corr(method='pearson', min_periods=1)"
   ]
  },
  {
   "cell_type": "markdown",
   "id": "23a43fb4-6649-4191-b739-4046e2dc51d9",
   "metadata": {},
   "source": [
    "<hr>"
   ]
  },
  {
   "cell_type": "markdown",
   "id": "8bfc75c9-7caa-48f3-af1d-a53dad8ff525",
   "metadata": {},
   "source": [
    "## What's the best advertising time ?"
   ]
  },
  {
   "cell_type": "markdown",
   "id": "3f10d50f-825b-45a5-8da1-d12ac729a0f5",
   "metadata": {},
   "source": [
    "<div style=\"border-left: 2px solid black; padding-left: 10px;\">\n",
    "Wenn wir unsere Daten zur Beantwortung dieser Frage verwenden wollen, müssen wir den Zeitraum in 24-Stunden-Verteilung aggregieren. In der Spalte \"Bestelldatum\" gibt es Zeitangaben. Wir könnten sie wie zuvor extrahieren. Aber um es konsistenter zu machen, müssen wir die Spalte \"Bestelldatum\" in ein Datum-Zeit-Objekt umwandeln. Wir werden die Methode pd.to_datetime() verwenden.\n",
    "    </div>"
   ]
  },
  {
   "cell_type": "code",
   "execution_count": 29,
   "id": "e5ba1baf-6ccf-49d1-a265-cf009d93115a",
   "metadata": {},
   "outputs": [],
   "source": [
    "df_new[\"Order Date\"] = pd.to_datetime(df_new[\"Order Date\"])"
   ]
  },
  {
   "cell_type": "code",
   "execution_count": 30,
   "id": "f8ba72b6-cf1d-4982-964b-be47e2851dc3",
   "metadata": {},
   "outputs": [],
   "source": [
    "df_new[\"time\"] = df_new[\"Order Date\"].dt.hour"
   ]
  },
  {
   "cell_type": "code",
   "execution_count": 31,
   "id": "77a83921-f76c-4ea8-8f9a-ff4bfde1a39d",
   "metadata": {},
   "outputs": [
    {
     "data": {
      "text/html": [
       "<div>\n",
       "<style scoped>\n",
       "    .dataframe tbody tr th:only-of-type {\n",
       "        vertical-align: middle;\n",
       "    }\n",
       "\n",
       "    .dataframe tbody tr th {\n",
       "        vertical-align: top;\n",
       "    }\n",
       "\n",
       "    .dataframe thead th {\n",
       "        text-align: right;\n",
       "    }\n",
       "</style>\n",
       "<table border=\"1\" class=\"dataframe\">\n",
       "  <thead>\n",
       "    <tr style=\"text-align: right;\">\n",
       "      <th></th>\n",
       "      <th>Order ID</th>\n",
       "      <th>Product</th>\n",
       "      <th>Quantity Ordered</th>\n",
       "      <th>Price Each</th>\n",
       "      <th>Order Date</th>\n",
       "      <th>Purchase Address</th>\n",
       "      <th>month</th>\n",
       "      <th>Sales</th>\n",
       "      <th>time</th>\n",
       "    </tr>\n",
       "  </thead>\n",
       "  <tbody>\n",
       "    <tr>\n",
       "      <th>0</th>\n",
       "      <td>176558</td>\n",
       "      <td>USB-C Charging Cable</td>\n",
       "      <td>2</td>\n",
       "      <td>11.95</td>\n",
       "      <td>2019-04-19 08:46:00</td>\n",
       "      <td>917 1st St, Dallas, TX 75001</td>\n",
       "      <td>4</td>\n",
       "      <td>23.90</td>\n",
       "      <td>8</td>\n",
       "    </tr>\n",
       "    <tr>\n",
       "      <th>2</th>\n",
       "      <td>176559</td>\n",
       "      <td>Bose SoundSport Headphones</td>\n",
       "      <td>1</td>\n",
       "      <td>99.99</td>\n",
       "      <td>2019-04-07 22:30:00</td>\n",
       "      <td>682 Chestnut St, Boston, MA 02215</td>\n",
       "      <td>4</td>\n",
       "      <td>99.99</td>\n",
       "      <td>22</td>\n",
       "    </tr>\n",
       "    <tr>\n",
       "      <th>3</th>\n",
       "      <td>176560</td>\n",
       "      <td>Google Phone</td>\n",
       "      <td>1</td>\n",
       "      <td>600.00</td>\n",
       "      <td>2019-04-12 14:38:00</td>\n",
       "      <td>669 Spruce St, Los Angeles, CA 90001</td>\n",
       "      <td>4</td>\n",
       "      <td>600.00</td>\n",
       "      <td>14</td>\n",
       "    </tr>\n",
       "    <tr>\n",
       "      <th>4</th>\n",
       "      <td>176560</td>\n",
       "      <td>Wired Headphones</td>\n",
       "      <td>1</td>\n",
       "      <td>11.99</td>\n",
       "      <td>2019-04-12 14:38:00</td>\n",
       "      <td>669 Spruce St, Los Angeles, CA 90001</td>\n",
       "      <td>4</td>\n",
       "      <td>11.99</td>\n",
       "      <td>14</td>\n",
       "    </tr>\n",
       "    <tr>\n",
       "      <th>5</th>\n",
       "      <td>176561</td>\n",
       "      <td>Wired Headphones</td>\n",
       "      <td>1</td>\n",
       "      <td>11.99</td>\n",
       "      <td>2019-04-30 09:27:00</td>\n",
       "      <td>333 8th St, Los Angeles, CA 90001</td>\n",
       "      <td>4</td>\n",
       "      <td>11.99</td>\n",
       "      <td>9</td>\n",
       "    </tr>\n",
       "  </tbody>\n",
       "</table>\n",
       "</div>"
      ],
      "text/plain": [
       "  Order ID                     Product  Quantity Ordered  Price Each  \\\n",
       "0   176558        USB-C Charging Cable                 2       11.95   \n",
       "2   176559  Bose SoundSport Headphones                 1       99.99   \n",
       "3   176560                Google Phone                 1      600.00   \n",
       "4   176560            Wired Headphones                 1       11.99   \n",
       "5   176561            Wired Headphones                 1       11.99   \n",
       "\n",
       "           Order Date                      Purchase Address  month   Sales  \\\n",
       "0 2019-04-19 08:46:00          917 1st St, Dallas, TX 75001      4   23.90   \n",
       "2 2019-04-07 22:30:00     682 Chestnut St, Boston, MA 02215      4   99.99   \n",
       "3 2019-04-12 14:38:00  669 Spruce St, Los Angeles, CA 90001      4  600.00   \n",
       "4 2019-04-12 14:38:00  669 Spruce St, Los Angeles, CA 90001      4   11.99   \n",
       "5 2019-04-30 09:27:00     333 8th St, Los Angeles, CA 90001      4   11.99   \n",
       "\n",
       "   time  \n",
       "0     8  \n",
       "2    22  \n",
       "3    14  \n",
       "4    14  \n",
       "5     9  "
      ]
     },
     "execution_count": 31,
     "metadata": {},
     "output_type": "execute_result"
    }
   ],
   "source": [
    "df_new.head()"
   ]
  },
  {
   "cell_type": "code",
   "execution_count": 32,
   "id": "15775608-3603-4402-9109-ff43b7b03c58",
   "metadata": {},
   "outputs": [
    {
     "data": {
      "text/html": [
       "<div>\n",
       "<style scoped>\n",
       "    .dataframe tbody tr th:only-of-type {\n",
       "        vertical-align: middle;\n",
       "    }\n",
       "\n",
       "    .dataframe tbody tr th {\n",
       "        vertical-align: top;\n",
       "    }\n",
       "\n",
       "    .dataframe thead th {\n",
       "        text-align: right;\n",
       "    }\n",
       "</style>\n",
       "<table border=\"1\" class=\"dataframe\">\n",
       "  <thead>\n",
       "    <tr style=\"text-align: right;\">\n",
       "      <th></th>\n",
       "      <th>Order ID</th>\n",
       "      <th>Product</th>\n",
       "      <th>Quantity Ordered</th>\n",
       "      <th>Price Each</th>\n",
       "      <th>Order Date</th>\n",
       "      <th>Purchase Address</th>\n",
       "      <th>month</th>\n",
       "      <th>Sales</th>\n",
       "    </tr>\n",
       "    <tr>\n",
       "      <th>time</th>\n",
       "      <th></th>\n",
       "      <th></th>\n",
       "      <th></th>\n",
       "      <th></th>\n",
       "      <th></th>\n",
       "      <th></th>\n",
       "      <th></th>\n",
       "      <th></th>\n",
       "    </tr>\n",
       "  </thead>\n",
       "  <tbody>\n",
       "    <tr>\n",
       "      <th>0</th>\n",
       "      <td>3910</td>\n",
       "      <td>3910</td>\n",
       "      <td>3910</td>\n",
       "      <td>3910</td>\n",
       "      <td>3910</td>\n",
       "      <td>3910</td>\n",
       "      <td>3910</td>\n",
       "      <td>3910</td>\n",
       "    </tr>\n",
       "    <tr>\n",
       "      <th>1</th>\n",
       "      <td>2350</td>\n",
       "      <td>2350</td>\n",
       "      <td>2350</td>\n",
       "      <td>2350</td>\n",
       "      <td>2350</td>\n",
       "      <td>2350</td>\n",
       "      <td>2350</td>\n",
       "      <td>2350</td>\n",
       "    </tr>\n",
       "    <tr>\n",
       "      <th>2</th>\n",
       "      <td>1243</td>\n",
       "      <td>1243</td>\n",
       "      <td>1243</td>\n",
       "      <td>1243</td>\n",
       "      <td>1243</td>\n",
       "      <td>1243</td>\n",
       "      <td>1243</td>\n",
       "      <td>1243</td>\n",
       "    </tr>\n",
       "    <tr>\n",
       "      <th>3</th>\n",
       "      <td>831</td>\n",
       "      <td>831</td>\n",
       "      <td>831</td>\n",
       "      <td>831</td>\n",
       "      <td>831</td>\n",
       "      <td>831</td>\n",
       "      <td>831</td>\n",
       "      <td>831</td>\n",
       "    </tr>\n",
       "    <tr>\n",
       "      <th>4</th>\n",
       "      <td>854</td>\n",
       "      <td>854</td>\n",
       "      <td>854</td>\n",
       "      <td>854</td>\n",
       "      <td>854</td>\n",
       "      <td>854</td>\n",
       "      <td>854</td>\n",
       "      <td>854</td>\n",
       "    </tr>\n",
       "  </tbody>\n",
       "</table>\n",
       "</div>"
      ],
      "text/plain": [
       "      Order ID  Product  Quantity Ordered  Price Each  Order Date  \\\n",
       "time                                                                \n",
       "0         3910     3910              3910        3910        3910   \n",
       "1         2350     2350              2350        2350        2350   \n",
       "2         1243     1243              1243        1243        1243   \n",
       "3          831      831               831         831         831   \n",
       "4          854      854               854         854         854   \n",
       "\n",
       "      Purchase Address  month  Sales  \n",
       "time                                  \n",
       "0                 3910   3910   3910  \n",
       "1                 2350   2350   2350  \n",
       "2                 1243   1243   1243  \n",
       "3                  831    831    831  \n",
       "4                  854    854    854  "
      ]
     },
     "execution_count": 32,
     "metadata": {},
     "output_type": "execute_result"
    }
   ],
   "source": [
    "results = df_new.groupby([\"time\"]).count()\n",
    "results.head()"
   ]
  },
  {
   "cell_type": "code",
   "execution_count": 33,
   "id": "d957d01c-5820-4d2e-a58b-cba846d59893",
   "metadata": {},
   "outputs": [
    {
     "data": {
      "image/png": "[encoded data removed]",
      "text/plain": [
       "<Figure size 720x504 with 1 Axes>"
      ]
     },
     "metadata": {
      "needs_background": "light"
     },
     "output_type": "display_data"
    }
   ],
   "source": [
    "results = df_new.groupby([\"time\"])[\"Quantity Ordered\"].count()\n",
    "hours = [hour for hour, df in df_new.groupby('time')]\n",
    "\n",
    "plt.plot(hours, results,c='red')\n",
    "plt.xticks(hours)\n",
    "plt.xlabel('hour')\n",
    "plt.ylabel('Number of orders')\n",
    "\n",
    "#24 hours scheme\n",
    "plt.show()"
   ]
  },
  {
   "cell_type": "markdown",
   "id": "aad8d877-6dcc-4305-a434-056fedd6ecae",
   "metadata": {},
   "source": [
    "<div style=\"border-left: 2px solid black; padding-left: 10px;\">\n",
    "Die Daten weisen etwa 2 Spitzenwerte auf. Sie liegen bei 12 (12 PM) und 19 (7 PM). Das macht Sinn, da die meisten Leute tagsüber einkaufen. Anhand dieser Daten können wir unserem Geschäftspartner vorschlagen, sein Produkt kurz vor 12 Uhr und/oder 19 Uhr zu bewerben. Es könnte 11.30 Uhr und/oder 18.30 Uhr sein.\n",
    "    </div>"
   ]
  },
  {
   "cell_type": "markdown",
   "id": "a24b46f5-63b7-468f-8288-9d60a30d1d21",
   "metadata": {},
   "source": [
    "<hr>"
   ]
  },
  {
   "cell_type": "markdown",
   "id": "dd13a381-78ae-470f-9958-4490e907b891",
   "metadata": {},
   "source": [
    "## In welcher Stadt werden die meisten Produkte verkauft?"
   ]
  },
  {
   "cell_type": "markdown",
   "id": "ce1e803b-8697-467f-917e-668362745354",
   "metadata": {},
   "source": [
    "#### Die Kaufadresse enthält die Stadt. Wir müssen sie extrahieren."
   ]
  },
  {
   "cell_type": "code",
   "execution_count": 34,
   "id": "995a3943-1d79-4e06-b437-b0c63a4cc2c7",
   "metadata": {},
   "outputs": [
    {
     "data": {
      "text/html": [
       "<div>\n",
       "<style scoped>\n",
       "    .dataframe tbody tr th:only-of-type {\n",
       "        vertical-align: middle;\n",
       "    }\n",
       "\n",
       "    .dataframe tbody tr th {\n",
       "        vertical-align: top;\n",
       "    }\n",
       "\n",
       "    .dataframe thead th {\n",
       "        text-align: right;\n",
       "    }\n",
       "</style>\n",
       "<table border=\"1\" class=\"dataframe\">\n",
       "  <thead>\n",
       "    <tr style=\"text-align: right;\">\n",
       "      <th></th>\n",
       "      <th>Order ID</th>\n",
       "      <th>Product</th>\n",
       "      <th>Quantity Ordered</th>\n",
       "      <th>Price Each</th>\n",
       "      <th>Order Date</th>\n",
       "      <th>Purchase Address</th>\n",
       "      <th>month</th>\n",
       "      <th>Sales</th>\n",
       "      <th>time</th>\n",
       "      <th>city</th>\n",
       "    </tr>\n",
       "  </thead>\n",
       "  <tbody>\n",
       "    <tr>\n",
       "      <th>0</th>\n",
       "      <td>176558</td>\n",
       "      <td>USB-C Charging Cable</td>\n",
       "      <td>2</td>\n",
       "      <td>11.95</td>\n",
       "      <td>2019-04-19 08:46:00</td>\n",
       "      <td>917 1st St, Dallas, TX 75001</td>\n",
       "      <td>4</td>\n",
       "      <td>23.90</td>\n",
       "      <td>8</td>\n",
       "      <td>Dallas</td>\n",
       "    </tr>\n",
       "    <tr>\n",
       "      <th>2</th>\n",
       "      <td>176559</td>\n",
       "      <td>Bose SoundSport Headphones</td>\n",
       "      <td>1</td>\n",
       "      <td>99.99</td>\n",
       "      <td>2019-04-07 22:30:00</td>\n",
       "      <td>682 Chestnut St, Boston, MA 02215</td>\n",
       "      <td>4</td>\n",
       "      <td>99.99</td>\n",
       "      <td>22</td>\n",
       "      <td>Boston</td>\n",
       "    </tr>\n",
       "    <tr>\n",
       "      <th>3</th>\n",
       "      <td>176560</td>\n",
       "      <td>Google Phone</td>\n",
       "      <td>1</td>\n",
       "      <td>600.00</td>\n",
       "      <td>2019-04-12 14:38:00</td>\n",
       "      <td>669 Spruce St, Los Angeles, CA 90001</td>\n",
       "      <td>4</td>\n",
       "      <td>600.00</td>\n",
       "      <td>14</td>\n",
       "      <td>Los Angeles</td>\n",
       "    </tr>\n",
       "    <tr>\n",
       "      <th>4</th>\n",
       "      <td>176560</td>\n",
       "      <td>Wired Headphones</td>\n",
       "      <td>1</td>\n",
       "      <td>11.99</td>\n",
       "      <td>2019-04-12 14:38:00</td>\n",
       "      <td>669 Spruce St, Los Angeles, CA 90001</td>\n",
       "      <td>4</td>\n",
       "      <td>11.99</td>\n",
       "      <td>14</td>\n",
       "      <td>Los Angeles</td>\n",
       "    </tr>\n",
       "    <tr>\n",
       "      <th>5</th>\n",
       "      <td>176561</td>\n",
       "      <td>Wired Headphones</td>\n",
       "      <td>1</td>\n",
       "      <td>11.99</td>\n",
       "      <td>2019-04-30 09:27:00</td>\n",
       "      <td>333 8th St, Los Angeles, CA 90001</td>\n",
       "      <td>4</td>\n",
       "      <td>11.99</td>\n",
       "      <td>9</td>\n",
       "      <td>Los Angeles</td>\n",
       "    </tr>\n",
       "    <tr>\n",
       "      <th>...</th>\n",
       "      <td>...</td>\n",
       "      <td>...</td>\n",
       "      <td>...</td>\n",
       "      <td>...</td>\n",
       "      <td>...</td>\n",
       "      <td>...</td>\n",
       "      <td>...</td>\n",
       "      <td>...</td>\n",
       "      <td>...</td>\n",
       "      <td>...</td>\n",
       "    </tr>\n",
       "    <tr>\n",
       "      <th>186845</th>\n",
       "      <td>259353</td>\n",
       "      <td>AAA Batteries (4-pack)</td>\n",
       "      <td>3</td>\n",
       "      <td>2.99</td>\n",
       "      <td>2019-09-17 20:56:00</td>\n",
       "      <td>840 Highland St, Los Angeles, CA 90001</td>\n",
       "      <td>9</td>\n",
       "      <td>8.97</td>\n",
       "      <td>20</td>\n",
       "      <td>Los Angeles</td>\n",
       "    </tr>\n",
       "    <tr>\n",
       "      <th>186846</th>\n",
       "      <td>259354</td>\n",
       "      <td>iPhone</td>\n",
       "      <td>1</td>\n",
       "      <td>700.00</td>\n",
       "      <td>2019-09-01 16:00:00</td>\n",
       "      <td>216 Dogwood St, San Francisco, CA 94016</td>\n",
       "      <td>9</td>\n",
       "      <td>700.00</td>\n",
       "      <td>16</td>\n",
       "      <td>San Francisco</td>\n",
       "    </tr>\n",
       "    <tr>\n",
       "      <th>186847</th>\n",
       "      <td>259355</td>\n",
       "      <td>iPhone</td>\n",
       "      <td>1</td>\n",
       "      <td>700.00</td>\n",
       "      <td>2019-09-23 07:39:00</td>\n",
       "      <td>220 12th St, San Francisco, CA 94016</td>\n",
       "      <td>9</td>\n",
       "      <td>700.00</td>\n",
       "      <td>7</td>\n",
       "      <td>San Francisco</td>\n",
       "    </tr>\n",
       "    <tr>\n",
       "      <th>186848</th>\n",
       "      <td>259356</td>\n",
       "      <td>34in Ultrawide Monitor</td>\n",
       "      <td>1</td>\n",
       "      <td>379.99</td>\n",
       "      <td>2019-09-19 17:30:00</td>\n",
       "      <td>511 Forest St, San Francisco, CA 94016</td>\n",
       "      <td>9</td>\n",
       "      <td>379.99</td>\n",
       "      <td>17</td>\n",
       "      <td>San Francisco</td>\n",
       "    </tr>\n",
       "    <tr>\n",
       "      <th>186849</th>\n",
       "      <td>259357</td>\n",
       "      <td>USB-C Charging Cable</td>\n",
       "      <td>1</td>\n",
       "      <td>11.95</td>\n",
       "      <td>2019-09-30 00:18:00</td>\n",
       "      <td>250 Meadow St, San Francisco, CA 94016</td>\n",
       "      <td>9</td>\n",
       "      <td>11.95</td>\n",
       "      <td>0</td>\n",
       "      <td>San Francisco</td>\n",
       "    </tr>\n",
       "  </tbody>\n",
       "</table>\n",
       "<p>185950 rows × 10 columns</p>\n",
       "</div>"
      ],
      "text/plain": [
       "       Order ID                     Product  Quantity Ordered  Price Each  \\\n",
       "0        176558        USB-C Charging Cable                 2       11.95   \n",
       "2        176559  Bose SoundSport Headphones                 1       99.99   \n",
       "3        176560                Google Phone                 1      600.00   \n",
       "4        176560            Wired Headphones                 1       11.99   \n",
       "5        176561            Wired Headphones                 1       11.99   \n",
       "...         ...                         ...               ...         ...   \n",
       "186845   259353      AAA Batteries (4-pack)                 3        2.99   \n",
       "186846   259354                      iPhone                 1      700.00   \n",
       "186847   259355                      iPhone                 1      700.00   \n",
       "186848   259356      34in Ultrawide Monitor                 1      379.99   \n",
       "186849   259357        USB-C Charging Cable                 1       11.95   \n",
       "\n",
       "                Order Date                         Purchase Address  month  \\\n",
       "0      2019-04-19 08:46:00             917 1st St, Dallas, TX 75001      4   \n",
       "2      2019-04-07 22:30:00        682 Chestnut St, Boston, MA 02215      4   \n",
       "3      2019-04-12 14:38:00     669 Spruce St, Los Angeles, CA 90001      4   \n",
       "4      2019-04-12 14:38:00     669 Spruce St, Los Angeles, CA 90001      4   \n",
       "5      2019-04-30 09:27:00        333 8th St, Los Angeles, CA 90001      4   \n",
       "...                    ...                                      ...    ...   \n",
       "186845 2019-09-17 20:56:00   840 Highland St, Los Angeles, CA 90001      9   \n",
       "186846 2019-09-01 16:00:00  216 Dogwood St, San Francisco, CA 94016      9   \n",
       "186847 2019-09-23 07:39:00     220 12th St, San Francisco, CA 94016      9   \n",
       "186848 2019-09-19 17:30:00   511 Forest St, San Francisco, CA 94016      9   \n",
       "186849 2019-09-30 00:18:00   250 Meadow St, San Francisco, CA 94016      9   \n",
       "\n",
       "         Sales  time            city  \n",
       "0        23.90     8          Dallas  \n",
       "2        99.99    22          Boston  \n",
       "3       600.00    14     Los Angeles  \n",
       "4        11.99    14     Los Angeles  \n",
       "5        11.99     9     Los Angeles  \n",
       "...        ...   ...             ...  \n",
       "186845    8.97    20     Los Angeles  \n",
       "186846  700.00    16   San Francisco  \n",
       "186847  700.00     7   San Francisco  \n",
       "186848  379.99    17   San Francisco  \n",
       "186849   11.95     0   San Francisco  \n",
       "\n",
       "[185950 rows x 10 columns]"
      ]
     },
     "execution_count": 34,
     "metadata": {},
     "output_type": "execute_result"
    }
   ],
   "source": [
    "df_new[\"city\"]= df_new[\"Purchase Address\"].apply(lambda x: x.split(',')[1])\n",
    "df_new"
   ]
  },
  {
   "cell_type": "markdown",
   "id": "64ca3857-2a03-4823-b49b-92f8d7d79bd7",
   "metadata": {},
   "source": [
    "Bei jeder Stadt muss das Bundesland angegeben werden, zu dem sie gehört, damit es nicht zu Verwechslungen zwischen verschiedenen Städten kommt."
   ]
  },
  {
   "cell_type": "code",
   "execution_count": 35,
   "id": "98416858-b932-4235-aadb-717326afd7b0",
   "metadata": {},
   "outputs": [
    {
     "data": {
      "text/html": [
       "<div>\n",
       "<style scoped>\n",
       "    .dataframe tbody tr th:only-of-type {\n",
       "        vertical-align: middle;\n",
       "    }\n",
       "\n",
       "    .dataframe tbody tr th {\n",
       "        vertical-align: top;\n",
       "    }\n",
       "\n",
       "    .dataframe thead th {\n",
       "        text-align: right;\n",
       "    }\n",
       "</style>\n",
       "<table border=\"1\" class=\"dataframe\">\n",
       "  <thead>\n",
       "    <tr style=\"text-align: right;\">\n",
       "      <th></th>\n",
       "      <th>Order ID</th>\n",
       "      <th>Product</th>\n",
       "      <th>Quantity Ordered</th>\n",
       "      <th>Price Each</th>\n",
       "      <th>Order Date</th>\n",
       "      <th>Purchase Address</th>\n",
       "      <th>month</th>\n",
       "      <th>Sales</th>\n",
       "      <th>time</th>\n",
       "      <th>city</th>\n",
       "    </tr>\n",
       "  </thead>\n",
       "  <tbody>\n",
       "    <tr>\n",
       "      <th>0</th>\n",
       "      <td>176558</td>\n",
       "      <td>USB-C Charging Cable</td>\n",
       "      <td>2</td>\n",
       "      <td>11.95</td>\n",
       "      <td>2019-04-19 08:46:00</td>\n",
       "      <td>917 1st St, Dallas, TX 75001</td>\n",
       "      <td>4</td>\n",
       "      <td>23.90</td>\n",
       "      <td>8</td>\n",
       "      <td>Dallas TX</td>\n",
       "    </tr>\n",
       "    <tr>\n",
       "      <th>2</th>\n",
       "      <td>176559</td>\n",
       "      <td>Bose SoundSport Headphones</td>\n",
       "      <td>1</td>\n",
       "      <td>99.99</td>\n",
       "      <td>2019-04-07 22:30:00</td>\n",
       "      <td>682 Chestnut St, Boston, MA 02215</td>\n",
       "      <td>4</td>\n",
       "      <td>99.99</td>\n",
       "      <td>22</td>\n",
       "      <td>Boston MA</td>\n",
       "    </tr>\n",
       "    <tr>\n",
       "      <th>3</th>\n",
       "      <td>176560</td>\n",
       "      <td>Google Phone</td>\n",
       "      <td>1</td>\n",
       "      <td>600.00</td>\n",
       "      <td>2019-04-12 14:38:00</td>\n",
       "      <td>669 Spruce St, Los Angeles, CA 90001</td>\n",
       "      <td>4</td>\n",
       "      <td>600.00</td>\n",
       "      <td>14</td>\n",
       "      <td>Los Angeles CA</td>\n",
       "    </tr>\n",
       "    <tr>\n",
       "      <th>4</th>\n",
       "      <td>176560</td>\n",
       "      <td>Wired Headphones</td>\n",
       "      <td>1</td>\n",
       "      <td>11.99</td>\n",
       "      <td>2019-04-12 14:38:00</td>\n",
       "      <td>669 Spruce St, Los Angeles, CA 90001</td>\n",
       "      <td>4</td>\n",
       "      <td>11.99</td>\n",
       "      <td>14</td>\n",
       "      <td>Los Angeles CA</td>\n",
       "    </tr>\n",
       "    <tr>\n",
       "      <th>5</th>\n",
       "      <td>176561</td>\n",
       "      <td>Wired Headphones</td>\n",
       "      <td>1</td>\n",
       "      <td>11.99</td>\n",
       "      <td>2019-04-30 09:27:00</td>\n",
       "      <td>333 8th St, Los Angeles, CA 90001</td>\n",
       "      <td>4</td>\n",
       "      <td>11.99</td>\n",
       "      <td>9</td>\n",
       "      <td>Los Angeles CA</td>\n",
       "    </tr>\n",
       "  </tbody>\n",
       "</table>\n",
       "</div>"
      ],
      "text/plain": [
       "  Order ID                     Product  Quantity Ordered  Price Each  \\\n",
       "0   176558        USB-C Charging Cable                 2       11.95   \n",
       "2   176559  Bose SoundSport Headphones                 1       99.99   \n",
       "3   176560                Google Phone                 1      600.00   \n",
       "4   176560            Wired Headphones                 1       11.99   \n",
       "5   176561            Wired Headphones                 1       11.99   \n",
       "\n",
       "           Order Date                      Purchase Address  month   Sales  \\\n",
       "0 2019-04-19 08:46:00          917 1st St, Dallas, TX 75001      4   23.90   \n",
       "2 2019-04-07 22:30:00     682 Chestnut St, Boston, MA 02215      4   99.99   \n",
       "3 2019-04-12 14:38:00  669 Spruce St, Los Angeles, CA 90001      4  600.00   \n",
       "4 2019-04-12 14:38:00  669 Spruce St, Los Angeles, CA 90001      4   11.99   \n",
       "5 2019-04-30 09:27:00     333 8th St, Los Angeles, CA 90001      4   11.99   \n",
       "\n",
       "   time             city  \n",
       "0     8        Dallas TX  \n",
       "2    22        Boston MA  \n",
       "3    14   Los Angeles CA  \n",
       "4    14   Los Angeles CA  \n",
       "5     9   Los Angeles CA  "
      ]
     },
     "execution_count": 35,
     "metadata": {},
     "output_type": "execute_result"
    }
   ],
   "source": [
    "def get_city(address):\n",
    "    return address.split(',')[1]\n",
    "\n",
    "def get_state(address):\n",
    "    return address.split(',')[2].split(' ')[1]\n",
    "\n",
    "df_new['city'] = df_new['Purchase Address'].apply(lambda x: get_city(x)+' '+get_state(x))\n",
    "\n",
    "df_new.head()"
   ]
  },
  {
   "cell_type": "code",
   "execution_count": 36,
   "id": "cfba8920-f6ae-44c0-818c-30bd1e139fdc",
   "metadata": {},
   "outputs": [
    {
     "data": {
      "text/html": [
       "<div>\n",
       "<style scoped>\n",
       "    .dataframe tbody tr th:only-of-type {\n",
       "        vertical-align: middle;\n",
       "    }\n",
       "\n",
       "    .dataframe tbody tr th {\n",
       "        vertical-align: top;\n",
       "    }\n",
       "\n",
       "    .dataframe thead th {\n",
       "        text-align: right;\n",
       "    }\n",
       "</style>\n",
       "<table border=\"1\" class=\"dataframe\">\n",
       "  <thead>\n",
       "    <tr style=\"text-align: right;\">\n",
       "      <th></th>\n",
       "      <th>Quantity Ordered</th>\n",
       "      <th>Price Each</th>\n",
       "      <th>month</th>\n",
       "      <th>Sales</th>\n",
       "      <th>time</th>\n",
       "    </tr>\n",
       "    <tr>\n",
       "      <th>city</th>\n",
       "      <th></th>\n",
       "      <th></th>\n",
       "      <th></th>\n",
       "      <th></th>\n",
       "      <th></th>\n",
       "    </tr>\n",
       "  </thead>\n",
       "  <tbody>\n",
       "    <tr>\n",
       "      <th>Atlanta GA</th>\n",
       "      <td>16602</td>\n",
       "      <td>2779908.20</td>\n",
       "      <td>104794</td>\n",
       "      <td>2795498.58</td>\n",
       "      <td>214264</td>\n",
       "    </tr>\n",
       "    <tr>\n",
       "      <th>Austin TX</th>\n",
       "      <td>11153</td>\n",
       "      <td>1809873.61</td>\n",
       "      <td>69829</td>\n",
       "      <td>1819581.75</td>\n",
       "      <td>141946</td>\n",
       "    </tr>\n",
       "    <tr>\n",
       "      <th>Boston MA</th>\n",
       "      <td>22528</td>\n",
       "      <td>3637409.77</td>\n",
       "      <td>141112</td>\n",
       "      <td>3661642.01</td>\n",
       "      <td>288225</td>\n",
       "    </tr>\n",
       "    <tr>\n",
       "      <th>Dallas TX</th>\n",
       "      <td>16730</td>\n",
       "      <td>2752627.82</td>\n",
       "      <td>104620</td>\n",
       "      <td>2767975.40</td>\n",
       "      <td>214390</td>\n",
       "    </tr>\n",
       "    <tr>\n",
       "      <th>Los Angeles CA</th>\n",
       "      <td>33289</td>\n",
       "      <td>5421435.23</td>\n",
       "      <td>208325</td>\n",
       "      <td>5452570.80</td>\n",
       "      <td>427444</td>\n",
       "    </tr>\n",
       "    <tr>\n",
       "      <th>New York City NY</th>\n",
       "      <td>27932</td>\n",
       "      <td>4635370.83</td>\n",
       "      <td>175741</td>\n",
       "      <td>4664317.43</td>\n",
       "      <td>357696</td>\n",
       "    </tr>\n",
       "    <tr>\n",
       "      <th>Portland ME</th>\n",
       "      <td>2750</td>\n",
       "      <td>447189.25</td>\n",
       "      <td>17144</td>\n",
       "      <td>449758.27</td>\n",
       "      <td>35211</td>\n",
       "    </tr>\n",
       "    <tr>\n",
       "      <th>Portland OR</th>\n",
       "      <td>11303</td>\n",
       "      <td>1860558.22</td>\n",
       "      <td>70621</td>\n",
       "      <td>1870732.34</td>\n",
       "      <td>144421</td>\n",
       "    </tr>\n",
       "    <tr>\n",
       "      <th>San Francisco CA</th>\n",
       "      <td>50239</td>\n",
       "      <td>8211461.74</td>\n",
       "      <td>315520</td>\n",
       "      <td>8262203.91</td>\n",
       "      <td>643265</td>\n",
       "    </tr>\n",
       "    <tr>\n",
       "      <th>Seattle WA</th>\n",
       "      <td>16553</td>\n",
       "      <td>2733296.01</td>\n",
       "      <td>104941</td>\n",
       "      <td>2747755.48</td>\n",
       "      <td>213292</td>\n",
       "    </tr>\n",
       "  </tbody>\n",
       "</table>\n",
       "</div>"
      ],
      "text/plain": [
       "                   Quantity Ordered  Price Each   month       Sales    time\n",
       "city                                                                       \n",
       " Atlanta GA                   16602  2779908.20  104794  2795498.58  214264\n",
       " Austin TX                    11153  1809873.61   69829  1819581.75  141946\n",
       " Boston MA                    22528  3637409.77  141112  3661642.01  288225\n",
       " Dallas TX                    16730  2752627.82  104620  2767975.40  214390\n",
       " Los Angeles CA               33289  5421435.23  208325  5452570.80  427444\n",
       " New York City NY             27932  4635370.83  175741  4664317.43  357696\n",
       " Portland ME                   2750   447189.25   17144   449758.27   35211\n",
       " Portland OR                  11303  1860558.22   70621  1870732.34  144421\n",
       " San Francisco CA             50239  8211461.74  315520  8262203.91  643265\n",
       " Seattle WA                   16553  2733296.01  104941  2747755.48  213292"
      ]
     },
     "execution_count": 36,
     "metadata": {},
     "output_type": "execute_result"
    }
   ],
   "source": [
    "results2 = df_new.groupby('city').sum()\n",
    "results2"
   ]
  },
  {
   "cell_type": "markdown",
   "id": "f1069840-ead5-45e4-82e1-51b6140eb21f",
   "metadata": {},
   "source": [
    "San Francisco ist mit ca. 8.200.200 das meistverkaufte Produkt von allen Städten. Deshalb müssen wir visualisieren, um genau zu wissen, welche Stadt die meisten Verkäufe gemacht hat\n"
   ]
  },
  {
   "cell_type": "code",
   "execution_count": 37,
   "id": "7923e311-ae8b-4763-9b66-2f4f32a77f37",
   "metadata": {},
   "outputs": [
    {
     "data": {
      "image/png": "[encoded data removed]",
      "text/plain": [
       "<Figure size 720x504 with 1 Axes>"
      ]
     },
     "metadata": {
      "needs_background": "light"
     },
     "output_type": "display_data"
    }
   ],
   "source": [
    "cities = [city for city, df in df_new.groupby('city')]\n",
    "\n",
    "plt.bar(cities, results2['Sales'])\n",
    "plt.xticks(cities, rotation='vertical',size=8)\n",
    "labels, location = plt.yticks()\n",
    "plt.yticks(labels,(labels/1000000).astype(int))\n",
    "plt.ylabel('Sales in million USD')\n",
    "plt.xlabel('City Name')\n",
    "plt.show()"
   ]
  },
  {
   "cell_type": "markdown",
   "id": "7f121c22-7dad-42f6-9bf4-d6d8a2d3ed5a",
   "metadata": {},
   "source": [
    "San Francisco hat die meisten Verkäufe gemacht. Das liegt vielleicht daran, dass die Werbung in San Francisco besser ist. Wir können diese Daten nutzen, um das Verkaufsgeschäft zu verbessern"
   ]
  },
  {
   "cell_type": "markdown",
   "id": "40570fca-5f0c-47da-9983-2445a99a30b4",
   "metadata": {},
   "source": [
    "# Predictive Modeling, zukünftige Verkäufe : Forecasting Sales over time."
   ]
  },
  {
   "cell_type": "code",
   "execution_count": 38,
   "id": "585a8c33-8ccc-4087-aeee-1d933a3b0891",
   "metadata": {},
   "outputs": [
    {
     "data": {
      "text/html": [
       "<div>\n",
       "<style scoped>\n",
       "    .dataframe tbody tr th:only-of-type {\n",
       "        vertical-align: middle;\n",
       "    }\n",
       "\n",
       "    .dataframe tbody tr th {\n",
       "        vertical-align: top;\n",
       "    }\n",
       "\n",
       "    .dataframe thead th {\n",
       "        text-align: right;\n",
       "    }\n",
       "</style>\n",
       "<table border=\"1\" class=\"dataframe\">\n",
       "  <thead>\n",
       "    <tr style=\"text-align: right;\">\n",
       "      <th></th>\n",
       "      <th>Order Date</th>\n",
       "      <th>Sales</th>\n",
       "    </tr>\n",
       "  </thead>\n",
       "  <tbody>\n",
       "    <tr>\n",
       "      <th>0</th>\n",
       "      <td>2019-04-19 08:46:00</td>\n",
       "      <td>23.90</td>\n",
       "    </tr>\n",
       "    <tr>\n",
       "      <th>2</th>\n",
       "      <td>2019-04-07 22:30:00</td>\n",
       "      <td>99.99</td>\n",
       "    </tr>\n",
       "    <tr>\n",
       "      <th>3</th>\n",
       "      <td>2019-04-12 14:38:00</td>\n",
       "      <td>600.00</td>\n",
       "    </tr>\n",
       "    <tr>\n",
       "      <th>4</th>\n",
       "      <td>2019-04-12 14:38:00</td>\n",
       "      <td>11.99</td>\n",
       "    </tr>\n",
       "    <tr>\n",
       "      <th>5</th>\n",
       "      <td>2019-04-30 09:27:00</td>\n",
       "      <td>11.99</td>\n",
       "    </tr>\n",
       "    <tr>\n",
       "      <th>...</th>\n",
       "      <td>...</td>\n",
       "      <td>...</td>\n",
       "    </tr>\n",
       "    <tr>\n",
       "      <th>186845</th>\n",
       "      <td>2019-09-17 20:56:00</td>\n",
       "      <td>8.97</td>\n",
       "    </tr>\n",
       "    <tr>\n",
       "      <th>186846</th>\n",
       "      <td>2019-09-01 16:00:00</td>\n",
       "      <td>700.00</td>\n",
       "    </tr>\n",
       "    <tr>\n",
       "      <th>186847</th>\n",
       "      <td>2019-09-23 07:39:00</td>\n",
       "      <td>700.00</td>\n",
       "    </tr>\n",
       "    <tr>\n",
       "      <th>186848</th>\n",
       "      <td>2019-09-19 17:30:00</td>\n",
       "      <td>379.99</td>\n",
       "    </tr>\n",
       "    <tr>\n",
       "      <th>186849</th>\n",
       "      <td>2019-09-30 00:18:00</td>\n",
       "      <td>11.95</td>\n",
       "    </tr>\n",
       "  </tbody>\n",
       "</table>\n",
       "<p>185950 rows × 2 columns</p>\n",
       "</div>"
      ],
      "text/plain": [
       "                Order Date   Sales\n",
       "0      2019-04-19 08:46:00   23.90\n",
       "2      2019-04-07 22:30:00   99.99\n",
       "3      2019-04-12 14:38:00  600.00\n",
       "4      2019-04-12 14:38:00   11.99\n",
       "5      2019-04-30 09:27:00   11.99\n",
       "...                    ...     ...\n",
       "186845 2019-09-17 20:56:00    8.97\n",
       "186846 2019-09-01 16:00:00  700.00\n",
       "186847 2019-09-23 07:39:00  700.00\n",
       "186848 2019-09-19 17:30:00  379.99\n",
       "186849 2019-09-30 00:18:00   11.95\n",
       "\n",
       "[185950 rows x 2 columns]"
      ]
     },
     "execution_count": 38,
     "metadata": {},
     "output_type": "execute_result"
    }
   ],
   "source": [
    "df_new[[\"Order Date\",\"Sales\"]]"
   ]
  },
  {
   "cell_type": "code",
   "execution_count": 39,
   "id": "9f1c1c1e-8bf3-4c62-a744-78f0b5ebbe31",
   "metadata": {},
   "outputs": [],
   "source": [
    "year = df_new[\"Order Date\"].dt.year\n",
    "month = df_new[\"Order Date\"].dt.year\n",
    "day = df_new[\"Order Date\"].dt.day"
   ]
  },
  {
   "cell_type": "markdown",
   "id": "1ebb0782-200f-4097-9c8c-db7e3293c74e",
   "metadata": {},
   "source": [
    "<div style=\"border-left: 2px solid black; padding-left: 10px;\">\n",
    "Der gegebene Code-Ausschnitt ist Teil eines Datenanalyse- und Predictive-Modeling-Prozesses. Der Fokus liegt auf der Vorhersage von Verkäufen mithilfe eines Random Forest Regressors, der ein maschinelles Lernverfahren ist und in der Lage ist, Regressionsaufgaben durchzuführen (d.h. die Vorhersage kontinuierlicher numerischer Werte).\n",
    "    </div>"
   ]
  },
  {
   "cell_type": "code",
   "execution_count": 40,
   "id": "77a57218-2c1f-479f-b351-1ded157fb3a8",
   "metadata": {},
   "outputs": [
    {
     "name": "stdout",
     "output_type": "stream",
     "text": [
      "Mean Squared Error: 0.9117137343390694\n"
     ]
    }
   ],
   "source": [
    "from sklearn.model_selection import train_test_split\n",
    "from sklearn.ensemble import RandomForestRegressor\n",
    "from sklearn.metrics import mean_squared_error\n",
    "\n",
    "df_new['Year'] = df_new['Order Date'].dt.year\n",
    "df_new['Month'] = df_new['Order Date'].dt.month\n",
    "df_new['Day'] = df_new['Order Date'].dt.day\n",
    "X = df_new[['Quantity Ordered','Year','Month','Day','time','Price Each']]\n",
    "\n",
    "y = df_new['Sales']\n",
    "\n",
    "\n",
    "X_train, X_test, y_train, y_test = train_test_split(X, y, test_size=0.2, random_state=100)\n",
    "\n",
    "regressor = RandomForestRegressor(n_estimators=100, random_state=42)\n",
    "\n",
    "regressor.fit(X_train, y_train)\n",
    "\n",
    "y_pred = regressor.predict(X_test)\n",
    "\n",
    "mse = mean_squared_error(y_test, y_pred)\n",
    "print(\"Mean Squared Error:\", mse)"
   ]
  },
  {
   "cell_type": "markdown",
   "id": "a74dec49-a13e-47e1-be18-b129540b59e4",
   "metadata": {},
   "source": [
    "100 Schätzer verwendet werden, was 100 Entscheidungsbäumen entspricht, um den mittleren quadratischen Fehler zwischen den Vorhersagen des Modells und den tatsächlichen Werten zu berechnen.\n",
    "Der MSE beträgt 0,911, was ein guter Indikator für die Skala der Sales-Spalte ist."
   ]
  },
  {
   "cell_type": "code",
   "execution_count": 41,
   "id": "6e6af42e-8a94-4eac-b1d7-bd8e17d011a5",
   "metadata": {},
   "outputs": [
    {
     "data": {
      "text/plain": [
       "(37190,)"
      ]
     },
     "execution_count": 41,
     "metadata": {},
     "output_type": "execute_result"
    }
   ],
   "source": [
    "y_pred.shape"
   ]
  },
  {
   "cell_type": "code",
   "execution_count": 42,
   "id": "2509f483-1d4b-4657-a778-4c01353fead8",
   "metadata": {},
   "outputs": [
    {
     "data": {
      "text/plain": [
       "(37190,)"
      ]
     },
     "execution_count": 42,
     "metadata": {},
     "output_type": "execute_result"
    }
   ],
   "source": [
    "y_test.shape"
   ]
  },
  {
   "cell_type": "markdown",
   "id": "763653f6-b5fd-44c7-8c4b-517d4cf8cce0",
   "metadata": {},
   "source": [
    "# Kunden Segmentierung : K-means Clustering Algorithmus"
   ]
  },
  {
   "cell_type": "code",
   "execution_count": 43,
   "id": "f9254111-da46-4bab-888b-55dd7f39d0a7",
   "metadata": {},
   "outputs": [
    {
     "name": "stdout",
     "output_type": "stream",
     "text": [
      "          Recency  Frequency  MonetaryValue  Cluster\n",
      "Order ID                                            \n",
      "141234        343          1         700.00        0\n",
      "141235        337          1          14.95        0\n",
      "141236        348          1          23.98        0\n",
      "141237        360          1         149.99        0\n",
      "141238        340          1          11.99        0\n",
      "...           ...        ...            ...      ...\n",
      "319666         20          1          14.95        1\n",
      "319667         30          1           7.68        1\n",
      "319668         22          1         400.00        1\n",
      "319669         28          1          11.99        1\n",
      "319670         10          1          99.99        1\n",
      "\n",
      "[178437 rows x 4 columns]\n"
     ]
    }
   ],
   "source": [
    "from sklearn.cluster import KMeans\n",
    "\n",
    "current_date = df_new['Order Date'].max()\n",
    "\n",
    "rfm_df = df_new.groupby('Order ID').agg({\n",
    "    'Order Date': lambda x: (current_date - x.max()).days, \n",
    "    'Order ID': 'count',                                  \n",
    "    'Sales': 'sum'                                        \n",
    "})\n",
    "\n",
    "\n",
    "rfm_df.rename(columns={'Order Date': 'Recency', 'Order ID': 'Frequency', 'Sales': 'MonetaryValue'}, inplace=True)\n",
    "rfm_normalized = (rfm_df - rfm_df.mean()) / rfm_df.std()\n",
    "\n",
    "# K-means\n",
    "n_clusters = 3\n",
    "kmeans = KMeans(n_clusters=n_clusters, random_state=42)\n",
    "rfm_df['Cluster'] = kmeans.fit_predict(rfm_normalized)\n",
    "\n",
    "\n",
    "print(rfm_df)"
   ]
  },
  {
   "cell_type": "code",
   "execution_count": 44,
   "id": "e48cf2af-60cf-466e-939a-61a2ffe7be75",
   "metadata": {},
   "outputs": [
    {
     "data": {
      "text/plain": [
       "array([0, 2, 1])"
      ]
     },
     "execution_count": 44,
     "metadata": {},
     "output_type": "execute_result"
    }
   ],
   "source": [
    "rfm_df[\"Cluster\"].unique()"
   ]
  },
  {
   "cell_type": "markdown",
   "id": "730d74d5-7adf-4baf-8eaa-9dd5535b3e40",
   "metadata": {},
   "source": [
    "<div style=\"border-left: 2px solid black; padding-left: 10px;\">\n",
    "Cluster 0  : Kunden in diesem Segment haben höhere Werte für \"Recency\" (Aktualität), \"Frequency\" (Häufigkeit) und \"MonetaryValue\" (Wert). Dies deutet darauf hin, dass sie kürzlich, häufig und mit höherem Wert eingekauft haben. Diese Kunden sind wahrscheinlich wertvoll und treue Kunden.\n",
    "    </div>"
   ]
  },
  {
   "cell_type": "markdown",
   "id": "cfa6045e-3871-4973-8fe6-a2a057753a5a",
   "metadata": {},
   "source": [
    "<div style=\"border-left: 2px solid black; padding-left: 10px;\">\n",
    "Cluster 1: Kunden in diesem Segment haben moderate Werte für \"Recency\", \"Frequency\" und \"MonetaryValue\". Sie sind möglicherweise nicht so aktuell, häufig oder wertvoll wie diejenigen in Cluster 0, zeigen jedoch immer noch eine angemessene Aktivität in Bezug auf ihr Einkaufsverhalten.\n",
    "    </div>"
   ]
  },
  {
   "cell_type": "markdown",
   "id": "635ec51b-05db-44ff-b1d8-cf8cdec2ed59",
   "metadata": {},
   "source": [
    "<div style=\"border-left: 2px solid black; padding-left: 10px;\">\n",
    "Cluster 2: Kunden in diesem Segment haben niedrigere Werte für \"Recency\", \"Frequency\" und \"MonetaryValue\". Dies zeigt an, dass sie weniger aktuell, weniger häufig und mit geringerem Wert einkaufen. Diese Kunden sind wahrscheinlich Gelegenheitskäufer oder Kunden mit niedrigem Wert.\n",
    "    </div>"
   ]
  },
  {
   "cell_type": "markdown",
   "id": "108f41c6-03dd-4d83-8d89-9728b4337cea",
   "metadata": {},
   "source": [
    "Bei der Durchführung der K-Means-Clustering-Algorithmus gruppiert ähnliche Datenpunkte (Kunden) in Cluster basierend auf ihren Merkmalen (Recency, Frequency und MonetaryValue in diesem Fall). Die angegebene Anzahl von Clustern (in diesem Fall drei Cluster) teilt die Kunden in drei verschiedene Gruppen basierend auf ihren Ähnlichkeiten in den RFM-Metriken ein. Die Interpretation der Cluster ermöglicht es Ihnen, die Eigenschaften und Verhaltensweisen der Kunden in jeder Gruppe zu verstehen, was wertvoll für gezieltes Marketing und Kundenbindungstrategien sein kann."
   ]
  }
 ],
 "metadata": {
  "kernelspec": {
   "display_name": "Python 3",
   "language": "python",
   "name": "python3"
  },
  "language_info": {
   "codemirror_mode": {
    "name": "ipython",
    "version": 3
   },
   "file_extension": ".py",
   "mimetype": "text/x-python",
   "name": "python",
   "nbconvert_exporter": "python",
   "pygments_lexer": "ipython3",
   "version": "3.8.8"
  }
 },
 "nbformat": 4,
 "nbformat_minor": 5
}
